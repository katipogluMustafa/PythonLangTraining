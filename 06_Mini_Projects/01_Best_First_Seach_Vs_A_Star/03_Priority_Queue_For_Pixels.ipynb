{
 "cells": [
  {
   "cell_type": "markdown",
   "metadata": {},
   "source": [
    "## Pixel"
   ]
  },
  {
   "cell_type": "code",
   "execution_count": 1,
   "metadata": {},
   "outputs": [],
   "source": [
    "import math\n",
    "\n",
    "\n",
    "class Pixel:\n",
    "    \"\"\"\n",
    "    Dont forget to set class variables 'is_a_star' and 'target' before using this class.\n",
    "    \"\"\"\n",
    "\n",
    "    is_a_star = False  # False -> Best First Search, True-> A*\n",
    "    target = (5, 7)  # Target to which we calculate the Heuristic Function\n",
    "\n",
    "    def __init__(self, x, y, color, parent_cost):\n",
    "        self.x = x\n",
    "        self.y = y\n",
    "        self.color = color\n",
    "        self.cost = parent_cost + Pixel.get_pixel_cost(color)\n",
    "\n",
    "        \n",
    "    # Evaluating Pixel Values\n",
    "\n",
    "    def h(self):\n",
    "        \"\"\" Heuristic Function\"\"\"\n",
    "        return Pixel.manhattan_distance(self.x, self.y, Pixel.target[0], Pixel.target[1])\n",
    "\n",
    "    def g(self):\n",
    "        \"\"\" Cost Function\"\"\"\n",
    "        return self.cost\n",
    "\n",
    "    def f(self):\n",
    "        if not Pixel.is_a_star:\n",
    "            return self.h()  # -> Best First Search\n",
    "        return self.h() + self.g()  # -> A *\n",
    "\n",
    "    \n",
    "    # Comparing Pixels\n",
    "\n",
    "    def __lt__(self, other):\n",
    "        return self.f() < other.f()\n",
    "\n",
    "    def __le__(self, other):\n",
    "        return self.f() <= other.f()\n",
    "\n",
    "    def __gt__(self, other):\n",
    "        return self.f() > other.f()\n",
    "\n",
    "    def __ge__(self, other):\n",
    "        return self.f() >= other.f()\n",
    "\n",
    "    def __eq__(self, other):\n",
    "        return self.f() == other.f()\n",
    "\n",
    "    def __ne__(self, other):\n",
    "        return self.f() != other.f()\n",
    "\n",
    "    \n",
    "    # Printing Pixels\n",
    "\n",
    "    def __repr__(self):\n",
    "        return f\"(x={self.x},y={self.y},color={self.color})\"\n",
    "\n",
    "    def __str__(self):\n",
    "        return f\"(x={self.x},y={self.y},color={self.color})\"\n",
    "    \n",
    "    \n",
    "    # Utility Methods\n",
    "    \n",
    "    @staticmethod\n",
    "    def get_pixel_cost(color):\n",
    "        if color[0] == 0:\n",
    "            return 1\n",
    "        return 1 / (color[0])  # Reverse of the 'red' in RGB   \n",
    "\n",
    "    @staticmethod\n",
    "    def euclidean_distance(x1, y1, x2, y2):\n",
    "        return math.sqrt((x1 ** 2 - x2 ** 2) + (y1 ** 2 - y2 ** 2))\n",
    "\n",
    "    @staticmethod\n",
    "    def manhattan_distance(x1, y1, x2, y2):\n",
    "        return abs(x1 - x2) + abs(y1 - y2)\n"
   ]
  },
  {
   "cell_type": "code",
   "execution_count": 2,
   "metadata": {},
   "outputs": [],
   "source": [
    "p = Pixel(3,5,color=(2,3,5), parent_cost=0)\n",
    "k = Pixel(3,5,color=(2,3,5), parent_cost=50)"
   ]
  },
  {
   "cell_type": "code",
   "execution_count": 3,
   "metadata": {},
   "outputs": [],
   "source": [
    "Pixel.is_a_star = False"
   ]
  },
  {
   "cell_type": "code",
   "execution_count": 4,
   "metadata": {},
   "outputs": [
    {
     "data": {
      "text/plain": [
       "True"
      ]
     },
     "execution_count": 4,
     "metadata": {},
     "output_type": "execute_result"
    }
   ],
   "source": [
    "p == k"
   ]
  },
  {
   "cell_type": "code",
   "execution_count": 5,
   "metadata": {},
   "outputs": [],
   "source": [
    "Pixel.is_a_star = True"
   ]
  },
  {
   "cell_type": "code",
   "execution_count": 6,
   "metadata": {},
   "outputs": [
    {
     "data": {
      "text/plain": [
       "False"
      ]
     },
     "execution_count": 6,
     "metadata": {},
     "output_type": "execute_result"
    }
   ],
   "source": [
    "p == k"
   ]
  },
  {
   "cell_type": "markdown",
   "metadata": {},
   "source": [
    "## Priority Queue of Pixels"
   ]
  },
  {
   "cell_type": "code",
   "execution_count": 7,
   "metadata": {},
   "outputs": [],
   "source": [
    "class PriorityQueue:\n",
    "    \n",
    "    def __init__(self, initial_elements: list, comparator, max_redundant_element_count=100):\n",
    "        self.comparator = comparator\n",
    "        self.max_redundant_element_count = max_redundant_element_count    # See delete method\n",
    "        self.heap = self.heapify(initial_elements)\n",
    "        self.length = len(self.heap)\n",
    "\n",
    "    def heapify(self, elements: list):\n",
    "        \"\"\"\n",
    "        Takes list of elements, returns Heap\n",
    "        Complexity: O(n)   \n",
    "        \"\"\"\n",
    "        last_index = len(elements) - 1  # Get Last Element's index\n",
    "        parent_of_last_index = (last_index - 1) // 2  # Get Last Element's Parent's index\n",
    "        # After last parent the tree, there is no subtree to adjust \n",
    "        for i in range(parent_of_last_index, -1, -1):\n",
    "            # Starting from last parent, assuming the given 'i' as the root of the subtree, down_heap\n",
    "            self.down_heap(elements, len(elements), root_index=i)\n",
    "        return elements  # Return the heap\n",
    "\n",
    "    def insert(self, x: int):\n",
    "        \"\"\"\n",
    "         Complexity: O(logN)\n",
    "        \"\"\"\n",
    "        i = self.length  # index of the x\n",
    "        parent_i = (i - 1) // 2  # index of x's parent      \n",
    "        \n",
    "        self.heap.append(x)  # Insert x into its index\n",
    "        self.length += 1\n",
    "\n",
    "        while i > 0 and self.comparator(x, self.heap[parent_i]):\n",
    "            self.heap[i] = self.heap[parent_i]  # put the parent into x's place\n",
    "            i = parent_i  # Update x's index, hypothetically x is there\n",
    "            parent_i = (i - 1) // 2  # Calculate x's new parent's index\n",
    "        self.heap[i] = x  # Insert x into its real place\n",
    "\n",
    "    def delete(self):\n",
    "        \"\"\"\n",
    "        Complexity = O(logN)\n",
    "        \"\"\"\n",
    "\n",
    "        deleted_element = self.heap[0]  # Delete the root by taking and putting last el into its place\n",
    "        self.heap[0] = self.heap[self.length - 1]  # Put the last element into root of the tree\n",
    "        self.down_heap(self.heap, length=self.length)  # Adjust the tree so that it becomes heap again\n",
    "        self.length -= 1  # Exclude last element since it is no longer inside the heap\n",
    "        \n",
    "        # If list grows so much, deallocate the unnecessary space\n",
    "        actual_length = len(self.heap)\n",
    "        if (actual_length - self.length) > self.max_redundant_element_count:\n",
    "            self.heap = self.heap[:self.length]\n",
    "\n",
    "        return deleted_element\n",
    "\n",
    "    def down_heap(self, heap: list, length, root_index=0):\n",
    "        i = root_index  # Start from given subtrees root\n",
    "        max_child = self.get_max_priority_child_index(heap, length, i)  # Get max priority child's index\n",
    "        while (max_child is not None) and self.comparator(heap[max_child], heap[i]):\n",
    "            # while child exists and child greater than parent, swap them\n",
    "            heap[i], heap[max_child] = heap[max_child], heap[i]  # Swap\n",
    "            i = max_child  # Update node's index\n",
    "            max_child = self.get_max_priority_child_index(heap, length, i)\n",
    "\n",
    "    def get_max_priority_child_index(self, heap, length, index):\n",
    "        last_index = length - 1\n",
    "        if last_index < (index * 2 + 1):  # No child\n",
    "            return None\n",
    "        elif last_index < (index * 2 + 2):  # Only Left Child exists\n",
    "            return index * 2 + 1\n",
    "        else:  # Both children exists\n",
    "            if self.comparator(heap[index * 2 + 1], heap[index * 2 + 2]):\n",
    "                return index * 2 + 1  # Return Left Child as Max Priority child\n",
    "            else:\n",
    "                return index * 2 + 2  # Return Right Child as Max Priority child\n",
    "\n",
    "    def __repr__(self):\n",
    "        result = \"[\\n\"\n",
    "        for i in range(0,self.length):\n",
    "            result += str(i) + \":\" + str(self.heap[i]) + \"\\n\"\n",
    "        result += \"]\"\n",
    "        return result\n",
    "\n",
    "    def __str__(self):\n",
    "        return str(self.heap[:self.length])\n",
    "\n"
   ]
  },
  {
   "cell_type": "code",
   "execution_count": 8,
   "metadata": {},
   "outputs": [],
   "source": [
    "p1 = Pixel(3,5,color=(8,3,5), parent_cost=0)\n",
    "p2 = Pixel(7,8,color=(6,3,5), parent_cost=1)\n",
    "p3 = Pixel(8,8,color=(3,3,5), parent_cost=2)\n",
    "p4 = Pixel(9,8,color=(10,3,5), parent_cost=3)\n",
    "p5 = Pixel(10,8,color=(5,3,5), parent_cost=4)\n",
    "p6 = Pixel(11,8,color=(4,3,5), parent_cost=5)\n",
    "p7 = Pixel(12,8,color=(9,3,5), parent_cost=6)"
   ]
  },
  {
   "cell_type": "code",
   "execution_count": 9,
   "metadata": {},
   "outputs": [],
   "source": [
    "queue = PriorityQueue([p1,p2,p3,p4,p5,p6,p7,], lambda x,y:x < y)  # Min Priority Queue"
   ]
  },
  {
   "cell_type": "code",
   "execution_count": 10,
   "metadata": {},
   "outputs": [
    {
     "data": {
      "text/plain": [
       "[\n",
       "0:(x=3,y=5,color=(8, 3, 5))\n",
       "1:(x=7,y=8,color=(6, 3, 5))\n",
       "2:(x=8,y=8,color=(3, 3, 5))\n",
       "3:(x=9,y=8,color=(10, 3, 5))\n",
       "4:(x=10,y=8,color=(5, 3, 5))\n",
       "5:(x=11,y=8,color=(4, 3, 5))\n",
       "6:(x=12,y=8,color=(9, 3, 5))\n",
       "]"
      ]
     },
     "execution_count": 10,
     "metadata": {},
     "output_type": "execute_result"
    }
   ],
   "source": [
    "queue"
   ]
  },
  {
   "cell_type": "code",
   "execution_count": 11,
   "metadata": {},
   "outputs": [],
   "source": [
    "queue.insert(  Pixel(13,8,color=(7,3,5), parent_cost=14) )"
   ]
  },
  {
   "cell_type": "code",
   "execution_count": 12,
   "metadata": {},
   "outputs": [
    {
     "data": {
      "text/plain": [
       "[\n",
       "0:(x=3,y=5,color=(8, 3, 5))\n",
       "1:(x=7,y=8,color=(6, 3, 5))\n",
       "2:(x=8,y=8,color=(3, 3, 5))\n",
       "3:(x=9,y=8,color=(10, 3, 5))\n",
       "4:(x=10,y=8,color=(5, 3, 5))\n",
       "5:(x=11,y=8,color=(4, 3, 5))\n",
       "6:(x=12,y=8,color=(9, 3, 5))\n",
       "7:(x=13,y=8,color=(7, 3, 5))\n",
       "]"
      ]
     },
     "execution_count": 12,
     "metadata": {},
     "output_type": "execute_result"
    }
   ],
   "source": [
    "queue"
   ]
  },
  {
   "cell_type": "code",
   "execution_count": 13,
   "metadata": {},
   "outputs": [
    {
     "data": {
      "text/plain": [
       "(x=3,y=5,color=(8, 3, 5))"
      ]
     },
     "execution_count": 13,
     "metadata": {},
     "output_type": "execute_result"
    }
   ],
   "source": [
    "queue.delete()"
   ]
  },
  {
   "cell_type": "code",
   "execution_count": 14,
   "metadata": {},
   "outputs": [
    {
     "data": {
      "text/plain": [
       "[\n",
       "0:(x=7,y=8,color=(6, 3, 5))\n",
       "1:(x=9,y=8,color=(10, 3, 5))\n",
       "2:(x=8,y=8,color=(3, 3, 5))\n",
       "3:(x=13,y=8,color=(7, 3, 5))\n",
       "4:(x=10,y=8,color=(5, 3, 5))\n",
       "5:(x=11,y=8,color=(4, 3, 5))\n",
       "6:(x=12,y=8,color=(9, 3, 5))\n",
       "]"
      ]
     },
     "execution_count": 14,
     "metadata": {},
     "output_type": "execute_result"
    }
   ],
   "source": [
    "queue"
   ]
  }
 ],
 "metadata": {
  "kernelspec": {
   "display_name": "Python 3",
   "language": "python",
   "name": "python3"
  },
  "language_info": {
   "codemirror_mode": {
    "name": "ipython",
    "version": 3
   },
   "file_extension": ".py",
   "mimetype": "text/x-python",
   "name": "python",
   "nbconvert_exporter": "python",
   "pygments_lexer": "ipython3",
   "version": "3.7.4"
  }
 },
 "nbformat": 4,
 "nbformat_minor": 4
}
