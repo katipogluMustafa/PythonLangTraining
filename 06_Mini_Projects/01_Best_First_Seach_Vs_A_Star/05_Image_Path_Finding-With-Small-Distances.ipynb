{
 "cells": [
  {
   "cell_type": "code",
   "execution_count": 1,
   "metadata": {},
   "outputs": [],
   "source": [
    "import math\n",
    "import os\n",
    "import random\n",
    "from PIL import Image\n",
    "from timeit import default_timer"
   ]
  },
  {
   "cell_type": "code",
   "execution_count": 2,
   "metadata": {},
   "outputs": [],
   "source": [
    "############################################################################\n",
    "########################----Pixel Class----#################################\n",
    "############################################################################\n",
    "class Pixel:\n",
    "    \"\"\"\n",
    "        Always setup static variables: 'is_a_star', 'target'\n",
    "    \"\"\"\n",
    "    is_a_star = False  # False -> Best First Search, True-> A*\n",
    "    target = (5, 7)  # Target to which we calculate the Heuristic Function\n",
    "\n",
    "    def __init__(self, x, y, color, parent_cost):\n",
    "        self.x = x\n",
    "        self.y = y\n",
    "        self.color = color\n",
    "        self.cost = parent_cost + Pixel.get_pixel_cost(color)\n",
    "\n",
    "    # Evaluating Pixel Values\n",
    "\n",
    "    def h(self):\n",
    "        \"\"\" Heuristic Function\"\"\"\n",
    "        return Pixel.euclidean_distance(self.x, self.y, Pixel.target[0], Pixel.target[1])\n",
    "\n",
    "    def g(self):\n",
    "        \"\"\" Cost Function\"\"\"\n",
    "        return self.cost\n",
    "\n",
    "    def f(self):\n",
    "        if not Pixel.is_a_star:\n",
    "            return self.h()  # -> Best First Search\n",
    "        return self.h() + self.g()  # -> A *\n",
    "\n",
    "    # Comparing Pixels\n",
    "\n",
    "    def __lt__(self, other):\n",
    "        return self.f() < other.f()\n",
    "\n",
    "    def __le__(self, other):\n",
    "        return self.f() <= other.f()\n",
    "\n",
    "    def __gt__(self, other):\n",
    "        return self.f() > other.f()\n",
    "\n",
    "    def __ge__(self, other):\n",
    "        return self.f() >= other.f()\n",
    "\n",
    "    def __eq__(self, other):\n",
    "        return self.f() == other.f()\n",
    "\n",
    "    def __ne__(self, other):\n",
    "        return self.f() != other.f()\n",
    "\n",
    "    # Printing Pixels\n",
    "\n",
    "    def __repr__(self):\n",
    "        return f\"(x={self.x},y={self.y},color={self.color}, g()={self.cost}, h()={self.h()}, f()={self.f()})\"\n",
    "\n",
    "    def __str__(self):\n",
    "        return f\"(x={self.x},y={self.y},color={self.color}, g()={self.cost}, h()={self.h()}, f()={self.f()})\"\n",
    "\n",
    "    # Utility Methods\n",
    "\n",
    "    @staticmethod\n",
    "    def get_pixel_cost(color):\n",
    "        if color[0] == 0:\n",
    "            return 1\n",
    "        return 1 / (color[0])  # Reverse of the 'red' in RGB\n",
    "\n",
    "    @staticmethod\n",
    "    def euclidean_distance(x1, y1, x2, y2):\n",
    "        return math.sqrt((x1  - x2) ** 2 + (y1 - y2) ** 2)\n",
    "    \n",
    "    @staticmethod\n",
    "    def manhattan_distance(x1, y1, x2, y2):\n",
    "        return abs(x1 - x2) + abs(y1 - y2)"
   ]
  },
  {
   "cell_type": "code",
   "execution_count": 3,
   "metadata": {},
   "outputs": [],
   "source": [
    "############################################################################\n",
    "########################----PriorityQueue Class----#########################\n",
    "############################################################################\n",
    "class PriorityQueue:\n",
    "\n",
    "    def __init__(self, initial_elements: list, comparator, max_redundant_element_count=100):\n",
    "        self.comparator = comparator\n",
    "        self.max_redundant_element_count = max_redundant_element_count  # See delete method\n",
    "        self.heap = self.heapify(initial_elements)\n",
    "        self.length = len(self.heap)\n",
    "        self.max_queue_size_seen = -1\n",
    "        self.number_of_deletions = 0\n",
    "\n",
    "    def heapify(self, elements: list):\n",
    "        \"\"\"\n",
    "        Takes list of elements, returns Heap\n",
    "        Complexity: O(n)\n",
    "        \"\"\"\n",
    "\n",
    "        if not elements:  # If elements is empty\n",
    "            return []  # return empty list as heap\n",
    "\n",
    "        last_index = len(elements) - 1  # Get Last Element's index\n",
    "        parent_of_last_index = (last_index - 1) // 2  # Get Last Element's Parent's index\n",
    "        # After last parent the tree, there is no subtree to adjust\n",
    "        for i in range(parent_of_last_index, -1, -1):\n",
    "            # Starting from last parent, assuming the given 'i' as the root of the subtree, down_heap\n",
    "            self.down_heap(elements, len(elements), root_index=i)\n",
    "        return elements  # Return the heap\n",
    "\n",
    "    def insert(self, x):\n",
    "        \"\"\"\n",
    "         Complexity: O(logN)\n",
    "        \"\"\"\n",
    "        i = self.length  # index of the x\n",
    "        parent_i = (i - 1) // 2  # index of x's parent\n",
    "\n",
    "        self.heap.append(x)  # Insert x into its index\n",
    "        self.length += 1\n",
    "        if self.max_queue_size_seen < self.length:\n",
    "            self.max_queue_size_seen = self.length\n",
    "\n",
    "        while i > 0 and self.comparator(x, self.heap[parent_i]):\n",
    "            self.heap[i] = self.heap[parent_i]  # put the parent into x's place\n",
    "            i = parent_i  # Update x's index, hypothetically x is there\n",
    "            parent_i = (i - 1) // 2  # Calculate x's new parent's index\n",
    "        self.heap[i] = x  # Insert x into its real place\n",
    "\n",
    "    def delete(self):\n",
    "        \"\"\"\n",
    "        Complexity = O(logN)\n",
    "        \"\"\"\n",
    "\n",
    "        deleted_element = self.heap[0]  # Delete the root by taking and putting last el into its place\n",
    "        self.heap[0] = self.heap[self.length - 1]  # Put the last element into root of the tree\n",
    "        self.down_heap(self.heap, length=self.length)  # Adjust the tree so that it becomes heap again\n",
    "        self.length -= 1  # Exclude last element since it is no longer inside the heap\n",
    "        self.number_of_deletions += 1\n",
    "        # If list grows so much, deallocate the unnecessary space\n",
    "        actual_length = len(self.heap)\n",
    "        if (actual_length - self.length) > self.max_redundant_element_count:\n",
    "            self.heap = self.heap[:self.length]\n",
    "\n",
    "        return deleted_element\n",
    "\n",
    "    def is_empty(self):\n",
    "        return self.length == 0\n",
    "\n",
    "    def down_heap(self, heap: list, length, root_index=0):\n",
    "        i = root_index  # Start from given subtrees root\n",
    "        max_child = self.get_max_priority_child_index(heap, length, i)  # Get max priority child's index\n",
    "        while (max_child is not None) and self.comparator(heap[max_child], heap[i]):\n",
    "            # while child exists and child greater than parent, swap them\n",
    "            heap[i], heap[max_child] = heap[max_child], heap[i]  # Swap\n",
    "            i = max_child  # Update node's index\n",
    "            max_child = self.get_max_priority_child_index(heap, length, i)\n",
    "\n",
    "    def get_max_priority_child_index(self, heap, length, index):\n",
    "        last_index = length - 1\n",
    "        if last_index < (index * 2 + 1):  # No child\n",
    "            return None\n",
    "        elif last_index < (index * 2 + 2):  # Only Left Child exists\n",
    "            return index * 2 + 1\n",
    "        else:  # Both children exists\n",
    "            if self.comparator(heap[index * 2 + 1], heap[index * 2 + 2]):\n",
    "                return index * 2 + 1  # Return Left Child as Max Priority child\n",
    "            else:\n",
    "                return index * 2 + 2  # Return Right Child as Max Priority child\n",
    "\n",
    "    def __repr__(self):\n",
    "        result = \"[\\n\"\n",
    "        for i in range(0, self.length):\n",
    "            result += str(i) + \":\" + str(self.heap[i]) + \"\\n\"\n",
    "        result += \"]\"\n",
    "        return result\n",
    "\n",
    "    def __str__(self):\n",
    "        result = \"[\\n\"\n",
    "        for i in range(0, self.length):\n",
    "            result += str(i) + \":\" + str(self.heap[i]) + \"\\n\"\n",
    "        result += \"]\"\n",
    "        return result"
   ]
  },
  {
   "cell_type": "code",
   "execution_count": 4,
   "metadata": {},
   "outputs": [],
   "source": [
    "############################################################################\n",
    "########################----Queue Class----#################################\n",
    "############################################################################\n",
    "class Queue:\n",
    "\n",
    "    def __init__(self, capacity=100):\n",
    "        self.internal_list = [None] * capacity\n",
    "        self.capacity = capacity\n",
    "        self.front = 0\n",
    "        self.rear = capacity - 1\n",
    "        self.size = 0\n",
    "        self.max_queue_size_seen = -1\n",
    "        self.number_of_deletions = 0\n",
    "\n",
    "    def insert(self, x):\n",
    "        if self.is_full():\n",
    "            print(\"Queue is Full!\")\n",
    "            return\n",
    "\n",
    "        self.rear = (self.rear + 1) % self.capacity\n",
    "        self.internal_list[self.rear] = x\n",
    "        self.size += 1\n",
    "\n",
    "        if self.size > self.max_queue_size_seen:\n",
    "            self.max_queue_size_seen = self.size\n",
    "\n",
    "    def delete(self):\n",
    "        if self.is_empty():\n",
    "            print(\"Queue is Empty!\")\n",
    "            return None\n",
    "\n",
    "        deleted_item = self.internal_list[self.front]\n",
    "        self.front = (self.front + 1) % self.capacity\n",
    "        self.size -= 1\n",
    "        self.number_of_deletions += 1\n",
    "        return deleted_item\n",
    "\n",
    "    def is_empty(self):\n",
    "        return self.size == 0\n",
    "\n",
    "    def is_full(self):\n",
    "        return self.capacity == self.size\n",
    "\n",
    "    def sort(self):\n",
    "        \"\"\" Using Insertion Sort \"\"\"\n",
    "        for i in range(self.front + 1, self.rear + 1):\n",
    "            temp = self.internal_list[i]\n",
    "            j = i - 1\n",
    "\n",
    "            while j >= self.front and self.internal_list[j] > temp:\n",
    "                self.internal_list[j + 1] = self.internal_list[j]\n",
    "                j -= 1\n",
    "            self.internal_list[j + 1] = temp\n",
    "\n",
    "    def __repr__(self):\n",
    "        result = \"[\\n\"\n",
    "        for i in range(self.front, self.rear + 1):\n",
    "            result += str(i) + \":\" + str(self.internal_list[i]) + \"\\n\"\n",
    "        result += \"]\"\n",
    "        return result\n",
    "\n",
    "    def __str__(self):\n",
    "        result = \"[\\n\"\n",
    "        for i in range(self.front, self.rear + 1):\n",
    "            result += str(i) + \":\" + str(self.internal_list[i]) + \"\\n\"\n",
    "        result += \"]\"\n",
    "        return result"
   ]
  },
  {
   "cell_type": "code",
   "execution_count": 5,
   "metadata": {},
   "outputs": [],
   "source": [
    "############################################################################\n",
    "######################---- Image Path Finder Class ----#####################\n",
    "############################################################################\n",
    "class ImagePathFinder:\n",
    "\n",
    "    def __init__(self, image:Image, start, target ):\n",
    "        \"\"\" @param image should never be None\"\"\"\n",
    "        self.image = image\n",
    "        self.width, self.height = image.size\n",
    "        self.target = target\n",
    "        self.start = start\n",
    "\n",
    "    def save_image(self, image = None, location=f'C:/Users/Yukawa/AI/', name=\"rainbow_result\", extension=\".jpg\"):\n",
    "        if image is None:\n",
    "            image = self.image\n",
    "        image.save(location + name + extension)\n",
    "\n",
    "    def insert_pixel(self, queue, image_pixels, x, y, parent_cost):\n",
    "        if 0 <= x < self.width and 0 <= y < self.height:                                # If valid pixel\n",
    "            queue.insert(Pixel(x, y, color=image_pixels[x,y], parent_cost=parent_cost))  # insert the pixel\n",
    "\n",
    "    ### Path Finding Algorithms\n",
    "    def find_path(self, is_a_star = True, use_priority_queue = True, image_folder_to_save=f'C:/Users/Yukawa/AI/', image_name_to_save=\"default\"):\n",
    "        \"\"\"\n",
    "        Finds path between start and target and paints it as white\n",
    "        :param is_a_star:  if True then A* algorithm, otherwise Best First Search Algorithm\n",
    "        :param use_priority_queue: if True then use Heap based Priority Queue, otherwise use List based Queue\n",
    "        :param image_folder_to_save: The folder that we will be putting the images into\n",
    "        :param image_name_to_save: Name of the image file to be saved\n",
    "        :return: Max Queue Size ever expanded, Max Number of Deletions From the Queue\n",
    "        \"\"\"\n",
    "        if self.image is None:\n",
    "            return None\n",
    "\n",
    "        # Work on copy of the 'self.image'\n",
    "        image = self.image.copy()\n",
    "        pixels = image.load()\n",
    "        # Set the start Pixel\n",
    "        start = Pixel(x=self.start[0], y=self.start[1], color=pixels[self.start[0], self.start[1]], parent_cost=0)\n",
    "        # Configure Function Type\n",
    "        Pixel.is_a_star = is_a_star  # A*:True-> f=g()+h()   Best First Search:False -> f=h()\n",
    "        # Configure h() in Pixel\n",
    "        Pixel.target = (self.target[0], self.target[1])  # Target to which we calculate h()\n",
    "\n",
    "        # Setup Queue with first element\n",
    "        if use_priority_queue:\n",
    "            queue = PriorityQueue([start], lambda a, b: a < b)  # Min Priority Queue\n",
    "        else:\n",
    "            queue = Queue(capacity=50_000)\n",
    "            queue.insert(start)\n",
    "\n",
    "        # Loop infinitely unless queue becomes empty\n",
    "        while (queue.is_empty() == False) and True:\n",
    "            # Remove min f() element from queue\n",
    "            pixel = queue.delete()\n",
    "            x = pixel.x\n",
    "            y = pixel.y\n",
    "            # paint the point as a way of showing we've visited this pixel\n",
    "            pixels[x, y] = (255, 255, 255)\n",
    "            # If current pixel is the target, then the path has found\n",
    "            if x == self.target[0] and y == self.target[1]:\n",
    "                self.save_image(image=image, name=image_name_to_save)\n",
    "                return queue.max_queue_size_seen, queue.number_of_deletions\n",
    "            # Insert Neighbours\n",
    "            self.insert_pixel(queue, image_pixels=pixels, x=x+1, y=y, parent_cost=pixel.cost)\n",
    "            self.insert_pixel(queue, image_pixels=pixels, x=x, y=y+1, parent_cost=pixel.cost)\n",
    "            self.insert_pixel(queue, image_pixels=pixels, x=x-1, y=y, parent_cost=pixel.cost)\n",
    "            self.insert_pixel(queue, image_pixels=pixels, x=x, y=y-1, parent_cost=pixel.cost)\n",
    "\n",
    "            if not use_priority_queue:\n",
    "                # Sort the Queue so that first element becomes lowest cost, highest priority\n",
    "                queue.sort()\n",
    "\n",
    "    def run_4_algorithms(self, folder_to_save_images, image_name_suffix):\n",
    "        # Best First Search With Heap Priority Queue\n",
    "        start_dt = default_timer()\n",
    "        max_size1, n_deletions1 = self.find_path(is_a_star=False, use_priority_queue=True,\n",
    "                                    image_folder_to_save=folder_to_save_images, image_name_to_save=f\"bfs{image_name_suffix}\")\n",
    "        runtime1 = default_timer() - start_dt  # in seconds\n",
    "\n",
    "        # Best First Search With Queue(using List)\n",
    "        start_dt = default_timer()\n",
    "        max_size2, n_deletions2 = self.find_path(is_a_star=False, use_priority_queue=False,\n",
    "                                    image_folder_to_save=folder_to_save_images, image_name_to_save=f\"bfs{image_name_suffix}_2\")\n",
    "        runtime2 = default_timer() - start_dt  # in seconds\n",
    "\n",
    "        # A* with Heap Priority Queue\n",
    "        start_dt = default_timer()\n",
    "        max_size3, n_deletions3 = self.find_path(is_a_star=True, use_priority_queue=True,\n",
    "                                    image_folder_to_save=folder_to_save_images, image_name_to_save=f\"a_star{image_name_suffix}\")\n",
    "        runtime3 = default_timer() - start_dt  # in seconds\n",
    "\n",
    "        # A* with Queue(using List)\n",
    "        start_dt = default_timer()\n",
    "        max_size4, n_deletions4 = self.find_path(is_a_star=True, use_priority_queue=False,\n",
    "                                    image_folder_to_save=folder_to_save_images, image_name_to_save=f\"a_star{image_name_suffix}_2\")\n",
    "        runtime4 = default_timer() - start_dt  # in seconds\n",
    "\n",
    "        return { \"runtime\":(runtime1, runtime2, runtime3, runtime4),\n",
    "                 \"max_size\":(max_size1, max_size2, max_size3, max_size4),\n",
    "                 \"n_deletions\":(n_deletions1, n_deletions2, n_deletions3, n_deletions4) }\n",
    "\n",
    "    @staticmethod\n",
    "    def print_run4algorithm_results(data, start, target):\n",
    "        runtime = data['runtime']\n",
    "        max_size = data['max_size']\n",
    "        n_deletions = data['n_deletions']\n",
    "\n",
    "        print(f\"Start({start[0]},{start[1]}) Target({target[0]},{target[1]})\\n\"\n",
    "              f\"Max Size Seen: BFS:{max_size[0]}, BFS_2:{max_size[1]}, A*:{max_size[2]}, A*_2:{max_size[3]}\\n\"\n",
    "              f\"Number of Deletions: BFS:{n_deletions[0]}, BFS_2:{n_deletions[1]}, A*:{n_deletions[2]}, A*_2:{n_deletions[3]}\\n\"\n",
    "              f\"Runtime(in seconds):\\n\\tBFS:{runtime[0]:.2f}, BFS_2={runtime[1]:.2f}, A*={runtime[2]:.2f}, A*_2={runtime[3]:.2f}\")\n",
    "\n",
    "    @staticmethod\n",
    "    def analise(image, folder_to_save_images, n=10):\n",
    "        \"\"\"\n",
    "        !! Image must have size greater than 1000x1000\n",
    "        For random 'n' number of random points, run the 4 algorithms\n",
    "        @:returns list of data dictionary\n",
    "        \"\"\"\n",
    "\n",
    "        print(f\"\\nAnalysis For {n} Random Points\\n\")\n",
    "        width, height = image.size\n",
    "\n",
    "        # For 10 Image\n",
    "        data_list = list()\n",
    "\n",
    "        for i in range(n):\n",
    "            start = (random.randint(0, width), random.randint(0, height))\n",
    "            target = (random.randint(0, width), random.randint(0, height))\n",
    "            data = ImagePathFinder(image, start=start, target=target).run_4_algorithms(\n",
    "                folder_to_save_images=folder_to_save_images, image_name_suffix=i)\n",
    "            print(\"\\n\")\n",
    "            ImagePathFinder.print_run4algorithm_results(data,start,target)\n",
    "            data_list.append( (start, target, data) )\n",
    "        return data_list\n"
   ]
  },
  {
   "cell_type": "markdown",
   "metadata": {},
   "source": [
    "## Main Function"
   ]
  },
  {
   "cell_type": "code",
   "execution_count": 6,
   "metadata": {},
   "outputs": [
    {
     "name": "stdout",
     "output_type": "stream",
     "text": [
      "Image Path: C:/Users/Yukawa/AI/rainbow.jpg\n",
      "Folder To Save Images: C:/Users/Yukawa/AI/\n",
      "Image Width: 1920, Image Height: 1200\n",
      "Start(x,y for example-> 3,4):5,7\n",
      "Target(x,y for example-> 9,7):453,689\n"
     ]
    }
   ],
   "source": [
    "##### Take Image\n",
    "valid_image_taken = False\n",
    "while not valid_image_taken:\n",
    "    try:\n",
    "        input_image_path = input(\"Image Path: \")\n",
    "        valid_image_taken = True\n",
    "    except FileNotFoundError:\n",
    "        print(\"Image Not Found! ::: Please Give Valid Image Path.\")\n",
    "\n",
    "image = Image.open(input_image_path, 'r')\n",
    "width, height = image.size\n",
    "\n",
    "#### Take Location to save Images\n",
    "valid_path_taken = False\n",
    "folder_to_save_images = \"\"\n",
    "while not valid_path_taken:\n",
    "    folder_to_save_images = input(\"Folder To Save Images: \")\n",
    "    if os.path.isdir(folder_to_save_images):\n",
    "        valid_path_taken = True\n",
    "    else:\n",
    "        print(\"Folder not found! :: Please Give Valid Folder To Save Images.\")\n",
    "\n",
    "\n",
    "##### Take Start Coordinate\n",
    "print(f\"Image Width: {width}, Image Height: {height}\")\n",
    "valid_coordinates_taken = False\n",
    "start_x, start_y = -1,-1\n",
    "while not valid_coordinates_taken:\n",
    "    start_x, start_y = map(int, input(\"Start(x,y for example-> 3,4):\").split(','))\n",
    "    if 0 <= start_x < width and 0 <= start_y < height:\n",
    "        valid_coordinates_taken = True\n",
    "    else:\n",
    "        print(f\"Invalid Coordinates: (x={start_x},y={start_y}) is out of image size({width},{height})\")\n",
    "\n",
    "##### Take Target Coordinate\n",
    "valid_coordinates_taken = False\n",
    "target_x, target_y = -1,-1\n",
    "while not valid_coordinates_taken:\n",
    "    target_x, target_y = map(int, input(\"Target(x,y for example-> 9,7):\").split(','))\n",
    "    if 0 <= target_x < width and 0 <= target_y < height:\n",
    "        valid_coordinates_taken = True\n",
    "    else:\n",
    "        print(f\"Invalid Coordinates: (x={target_x},y={target_y}) is out of image size({width},{height})\")"
   ]
  },
  {
   "cell_type": "markdown",
   "metadata": {},
   "source": [
    "### Run For User Input"
   ]
  },
  {
   "cell_type": "code",
   "execution_count": 7,
   "metadata": {},
   "outputs": [
    {
     "name": "stdout",
     "output_type": "stream",
     "text": [
      "\n",
      "Initial Configurations: Start:(5,7) ::: Target:(453,689)\n",
      "Start(5,7) Target(453,689)\n",
      "Max Size Seen: BFS:3391, BFS_2:3391, A*:3397, A*_2:3397\n",
      "Number of Deletions: BFS:1131, BFS_2:1131, A*:1133, A*_2:1133\n",
      "Runtime(in seconds):\n",
      "\tBFS:0.22, BFS_2=25.24, A*=0.23, A*_2=28.96\n"
     ]
    }
   ],
   "source": [
    "#### Create Image Path Finder\n",
    "image_path_finder = ImagePathFinder(image.copy(),\n",
    "                                    start = (start_x, start_y),\n",
    "                                    target= (target_x,target_y))\n",
    "\n",
    "print(f\"\\nInitial Configurations: Start:({start_x},{start_y}) ::: Target:({target_x},{target_y})\")\n",
    "\n",
    "data = image_path_finder.run_4_algorithms(folder_to_save_images=folder_to_save_images, image_name_suffix=\"_m_\")\n",
    "ImagePathFinder.print_run4algorithm_results(data,(start_x,start_y),(target_x,target_y))"
   ]
  },
  {
   "cell_type": "markdown",
   "metadata": {},
   "source": [
    "### Run 10 Times to Analize "
   ]
  },
  {
   "cell_type": "code",
   "execution_count": 8,
   "metadata": {},
   "outputs": [
    {
     "name": "stdout",
     "output_type": "stream",
     "text": [
      "\n",
      "Analysis For 10 Random Points\n",
      "\n",
      "\n",
      "\n",
      "Start(609,443) Target(870,504)\n",
      "Max Size Seen: BFS:967, BFS_2:967, A*:967, A*_2:967\n",
      "Number of Deletions: BFS:323, BFS_2:323, A*:323, A*_2:323\n",
      "Runtime(in seconds):\n",
      "\tBFS:0.09, BFS_2=2.05, A*=0.09, A*_2=2.25\n",
      "\n",
      "\n",
      "Start(1209,760) Target(1124,48)\n",
      "Max Size Seen: BFS:2392, BFS_2:2392, A*:2392, A*_2:2392\n",
      "Number of Deletions: BFS:798, BFS_2:798, A*:798, A*_2:798\n",
      "Runtime(in seconds):\n",
      "\tBFS:0.17, BFS_2=11.73, A*=0.20, A*_2=12.97\n",
      "\n",
      "\n",
      "Start(429,505) Target(810,627)\n",
      "Max Size Seen: BFS:1510, BFS_2:1510, A*:1510, A*_2:1510\n",
      "Number of Deletions: BFS:504, BFS_2:504, A*:504, A*_2:504\n",
      "Runtime(in seconds):\n",
      "\tBFS:0.12, BFS_2=4.96, A*=0.12, A*_2=6.29\n",
      "\n",
      "\n",
      "Start(1463,250) Target(1380,233)\n",
      "Max Size Seen: BFS:301, BFS_2:301, A*:301, A*_2:301\n",
      "Number of Deletions: BFS:101, BFS_2:101, A*:101, A*_2:101\n",
      "Runtime(in seconds):\n",
      "\tBFS:0.06, BFS_2=0.23, A*=0.06, A*_2=0.25\n",
      "\n",
      "\n",
      "Start(967,537) Target(1682,642)\n",
      "Max Size Seen: BFS:2461, BFS_2:2461, A*:2461, A*_2:2461\n",
      "Number of Deletions: BFS:821, BFS_2:821, A*:821, A*_2:821\n",
      "Runtime(in seconds):\n",
      "\tBFS:0.17, BFS_2=13.41, A*=0.18, A*_2=15.54\n",
      "\n",
      "\n",
      "Start(1351,633) Target(693,5)\n",
      "Max Size Seen: BFS:3859, BFS_2:3859, A*:3859, A*_2:3859\n",
      "Number of Deletions: BFS:1287, BFS_2:1287, A*:1287, A*_2:1287\n",
      "Runtime(in seconds):\n",
      "\tBFS:0.27, BFS_2=34.67, A*=0.37, A*_2=37.25\n",
      "\n",
      "\n",
      "Start(573,736) Target(675,877)\n",
      "Max Size Seen: BFS:730, BFS_2:730, A*:730, A*_2:730\n",
      "Number of Deletions: BFS:244, BFS_2:244, A*:244, A*_2:244\n",
      "Runtime(in seconds):\n",
      "\tBFS:0.08, BFS_2=1.23, A*=0.08, A*_2=1.40\n",
      "\n",
      "\n",
      "Start(663,471) Target(1293,33)\n",
      "Max Size Seen: BFS:3205, BFS_2:3205, A*:3205, A*_2:3205\n",
      "Number of Deletions: BFS:1069, BFS_2:1069, A*:1069, A*_2:1069\n",
      "Runtime(in seconds):\n",
      "\tBFS:0.21, BFS_2=25.78, A*=0.26, A*_2=28.25\n",
      "\n",
      "\n",
      "Start(1576,39) Target(145,667)\n",
      "Max Size Seen: BFS:6178, BFS_2:6178, A*:6178, A*_2:6178\n",
      "Number of Deletions: BFS:2060, BFS_2:2060, A*:2060, A*_2:2060\n",
      "Runtime(in seconds):\n",
      "\tBFS:0.40, BFS_2=87.59, A*=0.48, A*_2=90.93\n",
      "\n",
      "\n",
      "Start(1706,845) Target(318,239)\n",
      "Max Size Seen: BFS:5983, BFS_2:5983, A*:5989, A*_2:5989\n",
      "Number of Deletions: BFS:1995, BFS_2:1995, A*:1997, A*_2:1997\n",
      "Runtime(in seconds):\n",
      "\tBFS:0.44, BFS_2=79.62, A*=0.43, A*_2=83.61\n"
     ]
    }
   ],
   "source": [
    "data_for_analysis = ImagePathFinder.analise(image,folder_to_save_images,10)"
   ]
  },
  {
   "cell_type": "code",
   "execution_count": 9,
   "metadata": {},
   "outputs": [
    {
     "data": {
      "text/plain": [
       "[((609, 443),\n",
       "  (870, 504),\n",
       "  {'runtime': (0.09189130000000034,\n",
       "    2.0540665000000047,\n",
       "    0.09289909999999679,\n",
       "    2.2458771999999954),\n",
       "   'max_size': (967, 967, 967, 967),\n",
       "   'n_deletions': (323, 323, 323, 323)}),\n",
       " ((1209, 760),\n",
       "  (1124, 48),\n",
       "  {'runtime': (0.1685837999999933,\n",
       "    11.726730900000007,\n",
       "    0.19651770000000113,\n",
       "    12.969555899999989),\n",
       "   'max_size': (2392, 2392, 2392, 2392),\n",
       "   'n_deletions': (798, 798, 798, 798)}),\n",
       " ((429, 505),\n",
       "  (810, 627),\n",
       "  {'runtime': (0.11705560000000048,\n",
       "    4.960030599999982,\n",
       "    0.12134650000001557,\n",
       "    6.293181000000004),\n",
       "   'max_size': (1510, 1510, 1510, 1510),\n",
       "   'n_deletions': (504, 504, 504, 504)}),\n",
       " ((1463, 250),\n",
       "  (1380, 233),\n",
       "  {'runtime': (0.06087690000001089,\n",
       "    0.2329531999999972,\n",
       "    0.06250330000000304,\n",
       "    0.2518843000000004),\n",
       "   'max_size': (301, 301, 301, 301),\n",
       "   'n_deletions': (101, 101, 101, 101)}),\n",
       " ((967, 537),\n",
       "  (1682, 642),\n",
       "  {'runtime': (0.17032820000000015,\n",
       "    13.40777970000002,\n",
       "    0.17617250000000695,\n",
       "    15.538301899999993),\n",
       "   'max_size': (2461, 2461, 2461, 2461),\n",
       "   'n_deletions': (821, 821, 821, 821)}),\n",
       " ((1351, 633),\n",
       "  (693, 5),\n",
       "  {'runtime': (0.267916299999996,\n",
       "    34.669003300000014,\n",
       "    0.3697128999999961,\n",
       "    37.25490239999999),\n",
       "   'max_size': (3859, 3859, 3859, 3859),\n",
       "   'n_deletions': (1287, 1287, 1287, 1287)}),\n",
       " ((573, 736),\n",
       "  (675, 877),\n",
       "  {'runtime': (0.07763649999998279,\n",
       "    1.2321857000000023,\n",
       "    0.08026780000000144,\n",
       "    1.4021629000000075),\n",
       "   'max_size': (730, 730, 730, 730),\n",
       "   'n_deletions': (244, 244, 244, 244)}),\n",
       " ((663, 471),\n",
       "  (1293, 33),\n",
       "  {'runtime': (0.2081619999999873,\n",
       "    25.781683600000008,\n",
       "    0.25759620000002315,\n",
       "    28.247614199999987),\n",
       "   'max_size': (3205, 3205, 3205, 3205),\n",
       "   'n_deletions': (1069, 1069, 1069, 1069)}),\n",
       " ((1576, 39),\n",
       "  (145, 667),\n",
       "  {'runtime': (0.402245100000016,\n",
       "    87.59416619999996,\n",
       "    0.4801618999999846,\n",
       "    90.93008839999999),\n",
       "   'max_size': (6178, 6178, 6178, 6178),\n",
       "   'n_deletions': (2060, 2060, 2060, 2060)}),\n",
       " ((1706, 845),\n",
       "  (318, 239),\n",
       "  {'runtime': (0.43995219999999335,\n",
       "    79.62082019999997,\n",
       "    0.43334310000000187,\n",
       "    83.6068434),\n",
       "   'max_size': (5983, 5983, 5989, 5989),\n",
       "   'n_deletions': (1995, 1995, 1997, 1997)})]"
      ]
     },
     "execution_count": 9,
     "metadata": {},
     "output_type": "execute_result"
    }
   ],
   "source": [
    "data_for_analysis"
   ]
  },
  {
   "cell_type": "markdown",
   "metadata": {},
   "source": [
    "## Analysis"
   ]
  },
  {
   "cell_type": "code",
   "execution_count": 10,
   "metadata": {},
   "outputs": [],
   "source": [
    "import pandas as pd\n",
    "import matplotlib.pyplot as plt"
   ]
  },
  {
   "cell_type": "markdown",
   "metadata": {},
   "source": [
    "### Distance vs Runtime"
   ]
  },
  {
   "cell_type": "code",
   "execution_count": 11,
   "metadata": {},
   "outputs": [],
   "source": [
    "result_list = list()\n",
    "for i in range(10):\n",
    "    # calculate distance\n",
    "    start = data_for_analysis[i][0]\n",
    "    target = data_for_analysis[i][1]\n",
    "    distance = Pixel.manhattan_distance(start[0],start[1],target[0],target[1])\n",
    "    # get runtime of each run of the algorithm\n",
    "    runtime = data_for_analysis[i][2]['runtime']\n",
    "    # insert into result\n",
    "    result_list.append( (distance,runtime[0], runtime[1], runtime[2], runtime[3]) )\n",
    "    \n",
    "df = pd.DataFrame(result_list)\n",
    "df.index.name = 'Run'\n",
    "df.columns = ['distance', 'BFS', 'BFS_2', 'A*', 'A*_2']\n",
    "df.sort_values('distance', inplace=True, ascending=True)"
   ]
  },
  {
   "cell_type": "code",
   "execution_count": 12,
   "metadata": {},
   "outputs": [
    {
     "data": {
      "text/html": [
       "<div>\n",
       "<style scoped>\n",
       "    .dataframe tbody tr th:only-of-type {\n",
       "        vertical-align: middle;\n",
       "    }\n",
       "\n",
       "    .dataframe tbody tr th {\n",
       "        vertical-align: top;\n",
       "    }\n",
       "\n",
       "    .dataframe thead th {\n",
       "        text-align: right;\n",
       "    }\n",
       "</style>\n",
       "<table border=\"1\" class=\"dataframe\">\n",
       "  <thead>\n",
       "    <tr style=\"text-align: right;\">\n",
       "      <th></th>\n",
       "      <th>distance</th>\n",
       "      <th>BFS</th>\n",
       "      <th>BFS_2</th>\n",
       "      <th>A*</th>\n",
       "      <th>A*_2</th>\n",
       "    </tr>\n",
       "    <tr>\n",
       "      <th>Run</th>\n",
       "      <th></th>\n",
       "      <th></th>\n",
       "      <th></th>\n",
       "      <th></th>\n",
       "      <th></th>\n",
       "    </tr>\n",
       "  </thead>\n",
       "  <tbody>\n",
       "    <tr>\n",
       "      <th>3</th>\n",
       "      <td>100</td>\n",
       "      <td>0.060877</td>\n",
       "      <td>0.232953</td>\n",
       "      <td>0.062503</td>\n",
       "      <td>0.251884</td>\n",
       "    </tr>\n",
       "    <tr>\n",
       "      <th>6</th>\n",
       "      <td>243</td>\n",
       "      <td>0.077636</td>\n",
       "      <td>1.232186</td>\n",
       "      <td>0.080268</td>\n",
       "      <td>1.402163</td>\n",
       "    </tr>\n",
       "    <tr>\n",
       "      <th>0</th>\n",
       "      <td>322</td>\n",
       "      <td>0.091891</td>\n",
       "      <td>2.054067</td>\n",
       "      <td>0.092899</td>\n",
       "      <td>2.245877</td>\n",
       "    </tr>\n",
       "    <tr>\n",
       "      <th>2</th>\n",
       "      <td>503</td>\n",
       "      <td>0.117056</td>\n",
       "      <td>4.960031</td>\n",
       "      <td>0.121347</td>\n",
       "      <td>6.293181</td>\n",
       "    </tr>\n",
       "    <tr>\n",
       "      <th>1</th>\n",
       "      <td>797</td>\n",
       "      <td>0.168584</td>\n",
       "      <td>11.726731</td>\n",
       "      <td>0.196518</td>\n",
       "      <td>12.969556</td>\n",
       "    </tr>\n",
       "    <tr>\n",
       "      <th>4</th>\n",
       "      <td>820</td>\n",
       "      <td>0.170328</td>\n",
       "      <td>13.407780</td>\n",
       "      <td>0.176173</td>\n",
       "      <td>15.538302</td>\n",
       "    </tr>\n",
       "    <tr>\n",
       "      <th>7</th>\n",
       "      <td>1068</td>\n",
       "      <td>0.208162</td>\n",
       "      <td>25.781684</td>\n",
       "      <td>0.257596</td>\n",
       "      <td>28.247614</td>\n",
       "    </tr>\n",
       "    <tr>\n",
       "      <th>5</th>\n",
       "      <td>1286</td>\n",
       "      <td>0.267916</td>\n",
       "      <td>34.669003</td>\n",
       "      <td>0.369713</td>\n",
       "      <td>37.254902</td>\n",
       "    </tr>\n",
       "    <tr>\n",
       "      <th>9</th>\n",
       "      <td>1994</td>\n",
       "      <td>0.439952</td>\n",
       "      <td>79.620820</td>\n",
       "      <td>0.433343</td>\n",
       "      <td>83.606843</td>\n",
       "    </tr>\n",
       "    <tr>\n",
       "      <th>8</th>\n",
       "      <td>2059</td>\n",
       "      <td>0.402245</td>\n",
       "      <td>87.594166</td>\n",
       "      <td>0.480162</td>\n",
       "      <td>90.930088</td>\n",
       "    </tr>\n",
       "  </tbody>\n",
       "</table>\n",
       "</div>"
      ],
      "text/plain": [
       "     distance       BFS      BFS_2        A*       A*_2\n",
       "Run                                                    \n",
       "3         100  0.060877   0.232953  0.062503   0.251884\n",
       "6         243  0.077636   1.232186  0.080268   1.402163\n",
       "0         322  0.091891   2.054067  0.092899   2.245877\n",
       "2         503  0.117056   4.960031  0.121347   6.293181\n",
       "1         797  0.168584  11.726731  0.196518  12.969556\n",
       "4         820  0.170328  13.407780  0.176173  15.538302\n",
       "7        1068  0.208162  25.781684  0.257596  28.247614\n",
       "5        1286  0.267916  34.669003  0.369713  37.254902\n",
       "9        1994  0.439952  79.620820  0.433343  83.606843\n",
       "8        2059  0.402245  87.594166  0.480162  90.930088"
      ]
     },
     "execution_count": 12,
     "metadata": {},
     "output_type": "execute_result"
    }
   ],
   "source": [
    "df"
   ]
  },
  {
   "cell_type": "code",
   "execution_count": 13,
   "metadata": {
    "scrolled": true
   },
   "outputs": [
    {
     "data": {
      "image/png": "[encoded data removed]",
      "text/plain": [
       "<Figure size 432x288 with 1 Axes>"
      ]
     },
     "metadata": {
      "needs_background": "light"
     },
     "output_type": "display_data"
    }
   ],
   "source": [
    "ax = df.plot(x='distance', kind='bar', legend=True, fontsize=12)\n",
    "ax.set_xlabel(\"Distance Between Start and Target\", labelpad=20, fontsize=13)\n",
    "ax.set_ylabel(\"Runtime(Sec)\", labelpad=20, fontsize=13)\n",
    "ax.set_title(\"Distance Vs Runtime\", pad=20,fontsize=15)\n",
    "plt.show()"
   ]
  },
  {
   "cell_type": "markdown",
   "metadata": {},
   "source": [
    "<font color=darkblue>**PLOT#1**:Distance Vs Runtime </font><br/>\n",
    "<font color=green>**INSIGHT#1**: As distance between start and target increase,the runtime of the algorithms that have been implemented using array based queue(BFS_2, A<span>*</span>_2) outweigh the runtime of the algorithms that have been implemented using heap based priority queue(BFS,A<span>*</span>) </font><br/>\n",
    "<font color=green>**INSIGHT#1.1**: The runtime of the algorithms that have been implemented using array based queue(BFS_2, A<span>*</span>_2) is so inefficient in compared to the the algorithms that have been implemented using heap based priority queue(BFS,A<span>*</span>) </font>"
   ]
  },
  {
   "cell_type": "code",
   "execution_count": 14,
   "metadata": {},
   "outputs": [
    {
     "data": {
      "image/png": "[encoded data removed]",
      "text/plain": [
       "<Figure size 432x288 with 1 Axes>"
      ]
     },
     "metadata": {
      "needs_background": "light"
     },
     "output_type": "display_data"
    }
   ],
   "source": [
    "ax = df[['distance','BFS','A*']].plot(x='distance', kind='bar', legend=True, fontsize=12)\n",
    "ax.set_xlabel(\"Distance Between Start and Target\", labelpad=20, fontsize=13)\n",
    "ax.set_ylabel(\"Runtime(Sec)\", labelpad=20, fontsize=13)\n",
    "ax.set_title(\"Distance Vs Runtime\\nUsing Heap Based Priority Queue\", pad=20,fontsize=15)\n",
    "plt.show()"
   ]
  },
  {
   "cell_type": "markdown",
   "metadata": {},
   "source": [
    "<font color=darkblue>**PLOT#2**:Distance Vs Runtime Using Heap Based Priority Queue </font><br/>\n",
    "<font color=green>**INSIGHT#2**: As distance between start and target increase, the runtime increases linearly<br/> For Example when distance goes frm 365 to 1700 (approximately 5 fold), runtime also increases 5 fold</font>"
   ]
  },
  {
   "cell_type": "code",
   "execution_count": 15,
   "metadata": {},
   "outputs": [
    {
     "data": {
      "image/png": "[encoded data removed]",
      "text/plain": [
       "<Figure size 432x288 with 1 Axes>"
      ]
     },
     "metadata": {
      "needs_background": "light"
     },
     "output_type": "display_data"
    }
   ],
   "source": [
    "ax = df[['distance','BFS_2','A*_2']].plot(x='distance', kind='bar', legend=True, fontsize=12)\n",
    "ax.set_xlabel(\"Distance Between Start and Target\", labelpad=20, fontsize=13)\n",
    "ax.set_ylabel(\"Runtime(Sec)\", labelpad=20, fontsize=13)\n",
    "ax.set_title(\"Distance Vs Runtime\\nUsing Array Based Queue\", pad=20,fontsize=15)\n",
    "plt.show()"
   ]
  },
  {
   "cell_type": "markdown",
   "metadata": {},
   "source": [
    "<font color=darkblue>**PLOT#2**:Distance Vs Runtime Using Array Based Queue </font><br/>\n",
    "<font color=green>**INSIGHT#2**: As distance between start and target increase, the runtime increases non-linearly<br/> For Example when distance goes frm 785 to 2171 (approximately 3 fold), the runtime has increased 5 fold(hard to say any relation in between them)</font>"
   ]
  },
  {
   "cell_type": "markdown",
   "metadata": {},
   "source": [
    "### Max Queue Size Vs Runtime"
   ]
  },
  {
   "cell_type": "code",
   "execution_count": 16,
   "metadata": {},
   "outputs": [],
   "source": [
    "result_list = list()\n",
    "for i in range(10):\n",
    "    # get max size of queue\n",
    "    max_size = data_for_analysis[i][2]['max_size'][0]\n",
    "    # get runtime of each run of the algorithm\n",
    "    runtime = data_for_analysis[i][2]['runtime']\n",
    "    # insert into result\n",
    "    result_list.append( (max_size, runtime[0], runtime[1], runtime[2], runtime[3]) )\n",
    "    \n",
    "df = pd.DataFrame(result_list)\n",
    "df.index.name = 'Run'\n",
    "df.columns = ['max_size', 'BFS', 'BFS_2', 'A*', 'A*_2']\n",
    "df.sort_values('max_size', inplace=True, ascending=True)"
   ]
  },
  {
   "cell_type": "code",
   "execution_count": 17,
   "metadata": {},
   "outputs": [
    {
     "data": {
      "text/html": [
       "<div>\n",
       "<style scoped>\n",
       "    .dataframe tbody tr th:only-of-type {\n",
       "        vertical-align: middle;\n",
       "    }\n",
       "\n",
       "    .dataframe tbody tr th {\n",
       "        vertical-align: top;\n",
       "    }\n",
       "\n",
       "    .dataframe thead th {\n",
       "        text-align: right;\n",
       "    }\n",
       "</style>\n",
       "<table border=\"1\" class=\"dataframe\">\n",
       "  <thead>\n",
       "    <tr style=\"text-align: right;\">\n",
       "      <th></th>\n",
       "      <th>max_size</th>\n",
       "      <th>BFS</th>\n",
       "      <th>BFS_2</th>\n",
       "      <th>A*</th>\n",
       "      <th>A*_2</th>\n",
       "    </tr>\n",
       "    <tr>\n",
       "      <th>Run</th>\n",
       "      <th></th>\n",
       "      <th></th>\n",
       "      <th></th>\n",
       "      <th></th>\n",
       "      <th></th>\n",
       "    </tr>\n",
       "  </thead>\n",
       "  <tbody>\n",
       "    <tr>\n",
       "      <th>3</th>\n",
       "      <td>301</td>\n",
       "      <td>0.060877</td>\n",
       "      <td>0.232953</td>\n",
       "      <td>0.062503</td>\n",
       "      <td>0.251884</td>\n",
       "    </tr>\n",
       "    <tr>\n",
       "      <th>6</th>\n",
       "      <td>730</td>\n",
       "      <td>0.077636</td>\n",
       "      <td>1.232186</td>\n",
       "      <td>0.080268</td>\n",
       "      <td>1.402163</td>\n",
       "    </tr>\n",
       "    <tr>\n",
       "      <th>0</th>\n",
       "      <td>967</td>\n",
       "      <td>0.091891</td>\n",
       "      <td>2.054067</td>\n",
       "      <td>0.092899</td>\n",
       "      <td>2.245877</td>\n",
       "    </tr>\n",
       "    <tr>\n",
       "      <th>2</th>\n",
       "      <td>1510</td>\n",
       "      <td>0.117056</td>\n",
       "      <td>4.960031</td>\n",
       "      <td>0.121347</td>\n",
       "      <td>6.293181</td>\n",
       "    </tr>\n",
       "    <tr>\n",
       "      <th>1</th>\n",
       "      <td>2392</td>\n",
       "      <td>0.168584</td>\n",
       "      <td>11.726731</td>\n",
       "      <td>0.196518</td>\n",
       "      <td>12.969556</td>\n",
       "    </tr>\n",
       "    <tr>\n",
       "      <th>4</th>\n",
       "      <td>2461</td>\n",
       "      <td>0.170328</td>\n",
       "      <td>13.407780</td>\n",
       "      <td>0.176173</td>\n",
       "      <td>15.538302</td>\n",
       "    </tr>\n",
       "    <tr>\n",
       "      <th>7</th>\n",
       "      <td>3205</td>\n",
       "      <td>0.208162</td>\n",
       "      <td>25.781684</td>\n",
       "      <td>0.257596</td>\n",
       "      <td>28.247614</td>\n",
       "    </tr>\n",
       "    <tr>\n",
       "      <th>5</th>\n",
       "      <td>3859</td>\n",
       "      <td>0.267916</td>\n",
       "      <td>34.669003</td>\n",
       "      <td>0.369713</td>\n",
       "      <td>37.254902</td>\n",
       "    </tr>\n",
       "    <tr>\n",
       "      <th>9</th>\n",
       "      <td>5983</td>\n",
       "      <td>0.439952</td>\n",
       "      <td>79.620820</td>\n",
       "      <td>0.433343</td>\n",
       "      <td>83.606843</td>\n",
       "    </tr>\n",
       "    <tr>\n",
       "      <th>8</th>\n",
       "      <td>6178</td>\n",
       "      <td>0.402245</td>\n",
       "      <td>87.594166</td>\n",
       "      <td>0.480162</td>\n",
       "      <td>90.930088</td>\n",
       "    </tr>\n",
       "  </tbody>\n",
       "</table>\n",
       "</div>"
      ],
      "text/plain": [
       "     max_size       BFS      BFS_2        A*       A*_2\n",
       "Run                                                    \n",
       "3         301  0.060877   0.232953  0.062503   0.251884\n",
       "6         730  0.077636   1.232186  0.080268   1.402163\n",
       "0         967  0.091891   2.054067  0.092899   2.245877\n",
       "2        1510  0.117056   4.960031  0.121347   6.293181\n",
       "1        2392  0.168584  11.726731  0.196518  12.969556\n",
       "4        2461  0.170328  13.407780  0.176173  15.538302\n",
       "7        3205  0.208162  25.781684  0.257596  28.247614\n",
       "5        3859  0.267916  34.669003  0.369713  37.254902\n",
       "9        5983  0.439952  79.620820  0.433343  83.606843\n",
       "8        6178  0.402245  87.594166  0.480162  90.930088"
      ]
     },
     "execution_count": 17,
     "metadata": {},
     "output_type": "execute_result"
    }
   ],
   "source": [
    "df"
   ]
  },
  {
   "cell_type": "code",
   "execution_count": 18,
   "metadata": {},
   "outputs": [
    {
     "data": {
      "image/png": "[encoded data removed]",
      "text/plain": [
       "<Figure size 432x288 with 1 Axes>"
      ]
     },
     "metadata": {
      "needs_background": "light"
     },
     "output_type": "display_data"
    }
   ],
   "source": [
    "ax = df.plot(x='max_size', kind='bar', legend=True, fontsize=12)\n",
    "ax.set_xlabel(\"Max Queue Size\", labelpad=20, fontsize=13)\n",
    "ax.set_ylabel(\"Runtime(Sec)\", labelpad=20, fontsize=13)\n",
    "ax.set_title(\"Max Queue Size Vs Runtime\", pad=20,fontsize=15)\n",
    "plt.show()"
   ]
  },
  {
   "cell_type": "markdown",
   "metadata": {},
   "source": [
    "<font color=darkblue>**PLOT#3**:Max Queue Size Vs Runtime</font><br/>\n",
    "<font color=green>**INSIGHT#3**: As maximum queue size increase, runtime of the algorithms that have been implemented using array based queue becomes so inefficient</font>"
   ]
  },
  {
   "cell_type": "code",
   "execution_count": 19,
   "metadata": {},
   "outputs": [
    {
     "data": {
      "image/png": "[encoded data removed]",
      "text/plain": [
       "<Figure size 432x288 with 1 Axes>"
      ]
     },
     "metadata": {
      "needs_background": "light"
     },
     "output_type": "display_data"
    }
   ],
   "source": [
    "ax = df[['max_size','BFS','A*']].plot(x='max_size', kind='bar', legend=True, fontsize=12)\n",
    "ax.set_xlabel(\"Max Queue Size\", labelpad=20, fontsize=13)\n",
    "ax.set_ylabel(\"Runtime(Sec)\", labelpad=20, fontsize=13)\n",
    "ax.set_title(\"Max Queue Size Vs Runtime\\nUsing Heap Based Priority Queue\", pad=20,fontsize=15)\n",
    "plt.show()"
   ]
  },
  {
   "cell_type": "code",
   "execution_count": 20,
   "metadata": {},
   "outputs": [
    {
     "data": {
      "image/png": "[encoded data removed]",
      "text/plain": [
       "<Figure size 432x288 with 1 Axes>"
      ]
     },
     "metadata": {
      "needs_background": "light"
     },
     "output_type": "display_data"
    }
   ],
   "source": [
    "ax = df[['max_size','BFS_2','A*_2']].plot(x='max_size', kind='bar', legend=True, fontsize=12)\n",
    "ax.set_xlabel(\"Max Queue Size\", labelpad=20, fontsize=13)\n",
    "ax.set_ylabel(\"Runtime(Sec)\", labelpad=20, fontsize=13)\n",
    "ax.set_title(\"Max Queue Size Vs Runtime\\nUsing Array Based Queue\", pad=20,fontsize=15)\n",
    "plt.show()"
   ]
  },
  {
   "cell_type": "markdown",
   "metadata": {},
   "source": [
    "### Number of Deletions Vs Runtime"
   ]
  },
  {
   "cell_type": "code",
   "execution_count": 21,
   "metadata": {},
   "outputs": [],
   "source": [
    "result_list = list()\n",
    "for i in range(10):\n",
    "    # get number of deletions\n",
    "    n_deletions = data_for_analysis[i][2]['n_deletions'][0]\n",
    "    # get runtime of each run of the algorithm\n",
    "    runtime = data_for_analysis[i][2]['runtime']\n",
    "    # insert into result\n",
    "    result_list.append( (n_deletions, runtime[0], runtime[1], runtime[2], runtime[3]) )\n",
    "    \n",
    "df = pd.DataFrame(result_list)\n",
    "df.index.name = 'Run'\n",
    "df.columns = ['n_deletions', 'BFS', 'BFS_2', 'A*', 'A*_2']\n",
    "df.sort_values('n_deletions', inplace=True, ascending=True)"
   ]
  },
  {
   "cell_type": "code",
   "execution_count": 22,
   "metadata": {
    "scrolled": true
   },
   "outputs": [
    {
     "data": {
      "text/html": [
       "<div>\n",
       "<style scoped>\n",
       "    .dataframe tbody tr th:only-of-type {\n",
       "        vertical-align: middle;\n",
       "    }\n",
       "\n",
       "    .dataframe tbody tr th {\n",
       "        vertical-align: top;\n",
       "    }\n",
       "\n",
       "    .dataframe thead th {\n",
       "        text-align: right;\n",
       "    }\n",
       "</style>\n",
       "<table border=\"1\" class=\"dataframe\">\n",
       "  <thead>\n",
       "    <tr style=\"text-align: right;\">\n",
       "      <th></th>\n",
       "      <th>n_deletions</th>\n",
       "      <th>BFS</th>\n",
       "      <th>BFS_2</th>\n",
       "      <th>A*</th>\n",
       "      <th>A*_2</th>\n",
       "    </tr>\n",
       "    <tr>\n",
       "      <th>Run</th>\n",
       "      <th></th>\n",
       "      <th></th>\n",
       "      <th></th>\n",
       "      <th></th>\n",
       "      <th></th>\n",
       "    </tr>\n",
       "  </thead>\n",
       "  <tbody>\n",
       "    <tr>\n",
       "      <th>3</th>\n",
       "      <td>101</td>\n",
       "      <td>0.060877</td>\n",
       "      <td>0.232953</td>\n",
       "      <td>0.062503</td>\n",
       "      <td>0.251884</td>\n",
       "    </tr>\n",
       "    <tr>\n",
       "      <th>6</th>\n",
       "      <td>244</td>\n",
       "      <td>0.077636</td>\n",
       "      <td>1.232186</td>\n",
       "      <td>0.080268</td>\n",
       "      <td>1.402163</td>\n",
       "    </tr>\n",
       "    <tr>\n",
       "      <th>0</th>\n",
       "      <td>323</td>\n",
       "      <td>0.091891</td>\n",
       "      <td>2.054067</td>\n",
       "      <td>0.092899</td>\n",
       "      <td>2.245877</td>\n",
       "    </tr>\n",
       "    <tr>\n",
       "      <th>2</th>\n",
       "      <td>504</td>\n",
       "      <td>0.117056</td>\n",
       "      <td>4.960031</td>\n",
       "      <td>0.121347</td>\n",
       "      <td>6.293181</td>\n",
       "    </tr>\n",
       "    <tr>\n",
       "      <th>1</th>\n",
       "      <td>798</td>\n",
       "      <td>0.168584</td>\n",
       "      <td>11.726731</td>\n",
       "      <td>0.196518</td>\n",
       "      <td>12.969556</td>\n",
       "    </tr>\n",
       "    <tr>\n",
       "      <th>4</th>\n",
       "      <td>821</td>\n",
       "      <td>0.170328</td>\n",
       "      <td>13.407780</td>\n",
       "      <td>0.176173</td>\n",
       "      <td>15.538302</td>\n",
       "    </tr>\n",
       "    <tr>\n",
       "      <th>7</th>\n",
       "      <td>1069</td>\n",
       "      <td>0.208162</td>\n",
       "      <td>25.781684</td>\n",
       "      <td>0.257596</td>\n",
       "      <td>28.247614</td>\n",
       "    </tr>\n",
       "    <tr>\n",
       "      <th>5</th>\n",
       "      <td>1287</td>\n",
       "      <td>0.267916</td>\n",
       "      <td>34.669003</td>\n",
       "      <td>0.369713</td>\n",
       "      <td>37.254902</td>\n",
       "    </tr>\n",
       "    <tr>\n",
       "      <th>9</th>\n",
       "      <td>1995</td>\n",
       "      <td>0.439952</td>\n",
       "      <td>79.620820</td>\n",
       "      <td>0.433343</td>\n",
       "      <td>83.606843</td>\n",
       "    </tr>\n",
       "    <tr>\n",
       "      <th>8</th>\n",
       "      <td>2060</td>\n",
       "      <td>0.402245</td>\n",
       "      <td>87.594166</td>\n",
       "      <td>0.480162</td>\n",
       "      <td>90.930088</td>\n",
       "    </tr>\n",
       "  </tbody>\n",
       "</table>\n",
       "</div>"
      ],
      "text/plain": [
       "     n_deletions       BFS      BFS_2        A*       A*_2\n",
       "Run                                                       \n",
       "3            101  0.060877   0.232953  0.062503   0.251884\n",
       "6            244  0.077636   1.232186  0.080268   1.402163\n",
       "0            323  0.091891   2.054067  0.092899   2.245877\n",
       "2            504  0.117056   4.960031  0.121347   6.293181\n",
       "1            798  0.168584  11.726731  0.196518  12.969556\n",
       "4            821  0.170328  13.407780  0.176173  15.538302\n",
       "7           1069  0.208162  25.781684  0.257596  28.247614\n",
       "5           1287  0.267916  34.669003  0.369713  37.254902\n",
       "9           1995  0.439952  79.620820  0.433343  83.606843\n",
       "8           2060  0.402245  87.594166  0.480162  90.930088"
      ]
     },
     "execution_count": 22,
     "metadata": {},
     "output_type": "execute_result"
    }
   ],
   "source": [
    "df"
   ]
  },
  {
   "cell_type": "code",
   "execution_count": 23,
   "metadata": {},
   "outputs": [
    {
     "data": {
      "image/png": "[encoded data removed]",
      "text/plain": [
       "<Figure size 432x288 with 1 Axes>"
      ]
     },
     "metadata": {
      "needs_background": "light"
     },
     "output_type": "display_data"
    }
   ],
   "source": [
    "ax = df.plot(x='n_deletions', kind='bar', legend=True, fontsize=12)\n",
    "ax.set_xlabel(\"Number of Deletions\", labelpad=20, fontsize=13)\n",
    "ax.set_ylabel(\"Runtime(Sec)\", labelpad=20, fontsize=13)\n",
    "ax.set_title(\"Number of Deletions Vs Runtime\", pad=20,fontsize=15)\n",
    "plt.show()"
   ]
  },
  {
   "cell_type": "code",
   "execution_count": 24,
   "metadata": {},
   "outputs": [
    {
     "data": {
      "image/png": "[encoded data removed]",
      "text/plain": [
       "<Figure size 432x288 with 1 Axes>"
      ]
     },
     "metadata": {
      "needs_background": "light"
     },
     "output_type": "display_data"
    }
   ],
   "source": [
    "ax = df[['n_deletions','BFS','A*']].plot(x='n_deletions', kind='bar', legend=True, fontsize=12)\n",
    "ax.set_xlabel(\"Number of Deletions\", labelpad=20, fontsize=13)\n",
    "ax.set_ylabel(\"Runtime(Sec)\", labelpad=20, fontsize=13)\n",
    "ax.set_title(\"Number of Deletions Vs Runtime\\nUsing Heap Based Priority Queue\", pad=20,fontsize=15)\n",
    "plt.show()"
   ]
  },
  {
   "cell_type": "code",
   "execution_count": 25,
   "metadata": {},
   "outputs": [
    {
     "data": {
      "image/png": "[encoded data removed]",
      "text/plain": [
       "<Figure size 432x288 with 1 Axes>"
      ]
     },
     "metadata": {
      "needs_background": "light"
     },
     "output_type": "display_data"
    }
   ],
   "source": [
    "ax = df[['n_deletions','BFS_2','A*_2']].plot(x='n_deletions', kind='bar', legend=True, fontsize=12)\n",
    "ax.set_xlabel(\"Number of Deletions\", labelpad=20, fontsize=13)\n",
    "ax.set_ylabel(\"Runtime(Sec)\", labelpad=20, fontsize=13)\n",
    "ax.set_title(\"Number of Deletions Vs Runtime\\nUsing Array Based Queue\", pad=20,fontsize=15)\n",
    "plt.show()"
   ]
  },
  {
   "cell_type": "markdown",
   "metadata": {},
   "source": [
    "### Distance vs Number of Deletions"
   ]
  },
  {
   "cell_type": "code",
   "execution_count": 26,
   "metadata": {},
   "outputs": [],
   "source": [
    "result_list = list()\n",
    "for i in range(10):\n",
    "    # calculate distance\n",
    "    start = data_for_analysis[i][0]\n",
    "    target = data_for_analysis[i][1]\n",
    "    distance = Pixel.manhattan_distance(start[0],start[1],target[0],target[1])\n",
    "    # get number of deletions\n",
    "    n_deletions = data_for_analysis[i][2]['n_deletions'][0]\n",
    "    # insert into result\n",
    "    result_list.append( (distance,n_deletions) )\n",
    "    \n",
    "df = pd.DataFrame(result_list)\n",
    "df.index.name = 'Run'\n",
    "df.columns = ['distance', 'n_deletion']"
   ]
  },
  {
   "cell_type": "code",
   "execution_count": 27,
   "metadata": {},
   "outputs": [
    {
     "data": {
      "text/html": [
       "<div>\n",
       "<style scoped>\n",
       "    .dataframe tbody tr th:only-of-type {\n",
       "        vertical-align: middle;\n",
       "    }\n",
       "\n",
       "    .dataframe tbody tr th {\n",
       "        vertical-align: top;\n",
       "    }\n",
       "\n",
       "    .dataframe thead th {\n",
       "        text-align: right;\n",
       "    }\n",
       "</style>\n",
       "<table border=\"1\" class=\"dataframe\">\n",
       "  <thead>\n",
       "    <tr style=\"text-align: right;\">\n",
       "      <th></th>\n",
       "      <th>distance</th>\n",
       "      <th>n_deletion</th>\n",
       "    </tr>\n",
       "    <tr>\n",
       "      <th>Run</th>\n",
       "      <th></th>\n",
       "      <th></th>\n",
       "    </tr>\n",
       "  </thead>\n",
       "  <tbody>\n",
       "    <tr>\n",
       "      <th>0</th>\n",
       "      <td>322</td>\n",
       "      <td>323</td>\n",
       "    </tr>\n",
       "    <tr>\n",
       "      <th>1</th>\n",
       "      <td>797</td>\n",
       "      <td>798</td>\n",
       "    </tr>\n",
       "    <tr>\n",
       "      <th>2</th>\n",
       "      <td>503</td>\n",
       "      <td>504</td>\n",
       "    </tr>\n",
       "    <tr>\n",
       "      <th>3</th>\n",
       "      <td>100</td>\n",
       "      <td>101</td>\n",
       "    </tr>\n",
       "    <tr>\n",
       "      <th>4</th>\n",
       "      <td>820</td>\n",
       "      <td>821</td>\n",
       "    </tr>\n",
       "    <tr>\n",
       "      <th>5</th>\n",
       "      <td>1286</td>\n",
       "      <td>1287</td>\n",
       "    </tr>\n",
       "    <tr>\n",
       "      <th>6</th>\n",
       "      <td>243</td>\n",
       "      <td>244</td>\n",
       "    </tr>\n",
       "    <tr>\n",
       "      <th>7</th>\n",
       "      <td>1068</td>\n",
       "      <td>1069</td>\n",
       "    </tr>\n",
       "    <tr>\n",
       "      <th>8</th>\n",
       "      <td>2059</td>\n",
       "      <td>2060</td>\n",
       "    </tr>\n",
       "    <tr>\n",
       "      <th>9</th>\n",
       "      <td>1994</td>\n",
       "      <td>1995</td>\n",
       "    </tr>\n",
       "  </tbody>\n",
       "</table>\n",
       "</div>"
      ],
      "text/plain": [
       "     distance  n_deletion\n",
       "Run                      \n",
       "0         322         323\n",
       "1         797         798\n",
       "2         503         504\n",
       "3         100         101\n",
       "4         820         821\n",
       "5        1286        1287\n",
       "6         243         244\n",
       "7        1068        1069\n",
       "8        2059        2060\n",
       "9        1994        1995"
      ]
     },
     "execution_count": 27,
     "metadata": {},
     "output_type": "execute_result"
    }
   ],
   "source": [
    "df"
   ]
  },
  {
   "cell_type": "code",
   "execution_count": 28,
   "metadata": {},
   "outputs": [
    {
     "data": {
      "text/plain": [
       "<matplotlib.axes._subplots.AxesSubplot at 0x1b5113ced48>"
      ]
     },
     "execution_count": 28,
     "metadata": {},
     "output_type": "execute_result"
    },
    {
     "data": {
      "image/png": "[encoded data removed]",
      "text/plain": [
       "<Figure size 432x288 with 1 Axes>"
      ]
     },
     "metadata": {
      "needs_background": "light"
     },
     "output_type": "display_data"
    }
   ],
   "source": [
    "df.plot(x='distance', y='n_deletion')"
   ]
  },
  {
   "cell_type": "markdown",
   "metadata": {},
   "source": [
    "### Distance Vs Max Queue Size"
   ]
  },
  {
   "cell_type": "code",
   "execution_count": 29,
   "metadata": {},
   "outputs": [],
   "source": [
    "result_list = list()\n",
    "for i in range(10):\n",
    "    # calculate distance\n",
    "    start = data_for_analysis[i][0]\n",
    "    target = data_for_analysis[i][1]\n",
    "    distance = Pixel.manhattan_distance(start[0],start[1],target[0],target[1])\n",
    "    # get max queue size\n",
    "    max_size = data_for_analysis[i][2]['max_size'][0]\n",
    "    # insert into result\n",
    "    result_list.append( (distance,max_size) )\n",
    "    \n",
    "df = pd.DataFrame(result_list)\n",
    "df.index.name = 'Run'\n",
    "df.columns = ['distance', 'max_size']"
   ]
  },
  {
   "cell_type": "code",
   "execution_count": 30,
   "metadata": {},
   "outputs": [
    {
     "data": {
      "text/html": [
       "<div>\n",
       "<style scoped>\n",
       "    .dataframe tbody tr th:only-of-type {\n",
       "        vertical-align: middle;\n",
       "    }\n",
       "\n",
       "    .dataframe tbody tr th {\n",
       "        vertical-align: top;\n",
       "    }\n",
       "\n",
       "    .dataframe thead th {\n",
       "        text-align: right;\n",
       "    }\n",
       "</style>\n",
       "<table border=\"1\" class=\"dataframe\">\n",
       "  <thead>\n",
       "    <tr style=\"text-align: right;\">\n",
       "      <th></th>\n",
       "      <th>distance</th>\n",
       "      <th>max_size</th>\n",
       "    </tr>\n",
       "    <tr>\n",
       "      <th>Run</th>\n",
       "      <th></th>\n",
       "      <th></th>\n",
       "    </tr>\n",
       "  </thead>\n",
       "  <tbody>\n",
       "    <tr>\n",
       "      <th>0</th>\n",
       "      <td>322</td>\n",
       "      <td>967</td>\n",
       "    </tr>\n",
       "    <tr>\n",
       "      <th>1</th>\n",
       "      <td>797</td>\n",
       "      <td>2392</td>\n",
       "    </tr>\n",
       "    <tr>\n",
       "      <th>2</th>\n",
       "      <td>503</td>\n",
       "      <td>1510</td>\n",
       "    </tr>\n",
       "    <tr>\n",
       "      <th>3</th>\n",
       "      <td>100</td>\n",
       "      <td>301</td>\n",
       "    </tr>\n",
       "    <tr>\n",
       "      <th>4</th>\n",
       "      <td>820</td>\n",
       "      <td>2461</td>\n",
       "    </tr>\n",
       "    <tr>\n",
       "      <th>5</th>\n",
       "      <td>1286</td>\n",
       "      <td>3859</td>\n",
       "    </tr>\n",
       "    <tr>\n",
       "      <th>6</th>\n",
       "      <td>243</td>\n",
       "      <td>730</td>\n",
       "    </tr>\n",
       "    <tr>\n",
       "      <th>7</th>\n",
       "      <td>1068</td>\n",
       "      <td>3205</td>\n",
       "    </tr>\n",
       "    <tr>\n",
       "      <th>8</th>\n",
       "      <td>2059</td>\n",
       "      <td>6178</td>\n",
       "    </tr>\n",
       "    <tr>\n",
       "      <th>9</th>\n",
       "      <td>1994</td>\n",
       "      <td>5983</td>\n",
       "    </tr>\n",
       "  </tbody>\n",
       "</table>\n",
       "</div>"
      ],
      "text/plain": [
       "     distance  max_size\n",
       "Run                    \n",
       "0         322       967\n",
       "1         797      2392\n",
       "2         503      1510\n",
       "3         100       301\n",
       "4         820      2461\n",
       "5        1286      3859\n",
       "6         243       730\n",
       "7        1068      3205\n",
       "8        2059      6178\n",
       "9        1994      5983"
      ]
     },
     "execution_count": 30,
     "metadata": {},
     "output_type": "execute_result"
    }
   ],
   "source": [
    "df"
   ]
  },
  {
   "cell_type": "code",
   "execution_count": 31,
   "metadata": {},
   "outputs": [
    {
     "data": {
      "text/plain": [
       "<matplotlib.axes._subplots.AxesSubplot at 0x1b511606b08>"
      ]
     },
     "execution_count": 31,
     "metadata": {},
     "output_type": "execute_result"
    },
    {
     "data": {
      "image/png": "[encoded data removed]",
      "text/plain": [
       "<Figure size 432x288 with 1 Axes>"
      ]
     },
     "metadata": {
      "needs_background": "light"
     },
     "output_type": "display_data"
    }
   ],
   "source": [
    "df.plot(x='distance', y='max_size')"
   ]
  },
  {
   "cell_type": "markdown",
   "metadata": {},
   "source": [
    "### Max Queue Size Vs Number of Deletions "
   ]
  },
  {
   "cell_type": "code",
   "execution_count": 32,
   "metadata": {},
   "outputs": [],
   "source": [
    "result_list = list()\n",
    "for i in range(10):\n",
    "    # get max size of queue\n",
    "    max_size = data_for_analysis[i][2]['max_size'][0]\n",
    "    # get number of deletions\n",
    "    n_deletions = data_for_analysis[i][2]['n_deletions'][0]\n",
    "    # insert into result\n",
    "    result_list.append( (max_size, n_deletions) )\n",
    "    \n",
    "df = pd.DataFrame(result_list)\n",
    "df.index.name = 'Run'\n",
    "df.columns = ['max_size', 'n_deletions']"
   ]
  },
  {
   "cell_type": "code",
   "execution_count": 33,
   "metadata": {},
   "outputs": [
    {
     "data": {
      "text/html": [
       "<div>\n",
       "<style scoped>\n",
       "    .dataframe tbody tr th:only-of-type {\n",
       "        vertical-align: middle;\n",
       "    }\n",
       "\n",
       "    .dataframe tbody tr th {\n",
       "        vertical-align: top;\n",
       "    }\n",
       "\n",
       "    .dataframe thead th {\n",
       "        text-align: right;\n",
       "    }\n",
       "</style>\n",
       "<table border=\"1\" class=\"dataframe\">\n",
       "  <thead>\n",
       "    <tr style=\"text-align: right;\">\n",
       "      <th></th>\n",
       "      <th>max_size</th>\n",
       "      <th>n_deletions</th>\n",
       "    </tr>\n",
       "    <tr>\n",
       "      <th>Run</th>\n",
       "      <th></th>\n",
       "      <th></th>\n",
       "    </tr>\n",
       "  </thead>\n",
       "  <tbody>\n",
       "    <tr>\n",
       "      <th>0</th>\n",
       "      <td>967</td>\n",
       "      <td>323</td>\n",
       "    </tr>\n",
       "    <tr>\n",
       "      <th>1</th>\n",
       "      <td>2392</td>\n",
       "      <td>798</td>\n",
       "    </tr>\n",
       "    <tr>\n",
       "      <th>2</th>\n",
       "      <td>1510</td>\n",
       "      <td>504</td>\n",
       "    </tr>\n",
       "    <tr>\n",
       "      <th>3</th>\n",
       "      <td>301</td>\n",
       "      <td>101</td>\n",
       "    </tr>\n",
       "    <tr>\n",
       "      <th>4</th>\n",
       "      <td>2461</td>\n",
       "      <td>821</td>\n",
       "    </tr>\n",
       "    <tr>\n",
       "      <th>5</th>\n",
       "      <td>3859</td>\n",
       "      <td>1287</td>\n",
       "    </tr>\n",
       "    <tr>\n",
       "      <th>6</th>\n",
       "      <td>730</td>\n",
       "      <td>244</td>\n",
       "    </tr>\n",
       "    <tr>\n",
       "      <th>7</th>\n",
       "      <td>3205</td>\n",
       "      <td>1069</td>\n",
       "    </tr>\n",
       "    <tr>\n",
       "      <th>8</th>\n",
       "      <td>6178</td>\n",
       "      <td>2060</td>\n",
       "    </tr>\n",
       "    <tr>\n",
       "      <th>9</th>\n",
       "      <td>5983</td>\n",
       "      <td>1995</td>\n",
       "    </tr>\n",
       "  </tbody>\n",
       "</table>\n",
       "</div>"
      ],
      "text/plain": [
       "     max_size  n_deletions\n",
       "Run                       \n",
       "0         967          323\n",
       "1        2392          798\n",
       "2        1510          504\n",
       "3         301          101\n",
       "4        2461          821\n",
       "5        3859         1287\n",
       "6         730          244\n",
       "7        3205         1069\n",
       "8        6178         2060\n",
       "9        5983         1995"
      ]
     },
     "execution_count": 33,
     "metadata": {},
     "output_type": "execute_result"
    }
   ],
   "source": [
    "df"
   ]
  },
  {
   "cell_type": "code",
   "execution_count": 34,
   "metadata": {},
   "outputs": [
    {
     "data": {
      "text/plain": [
       "<matplotlib.axes._subplots.AxesSubplot at 0x1b512645348>"
      ]
     },
     "execution_count": 34,
     "metadata": {},
     "output_type": "execute_result"
    },
    {
     "data": {
      "image/png": "[encoded data removed]",
      "text/plain": [
       "<Figure size 432x288 with 1 Axes>"
      ]
     },
     "metadata": {
      "needs_background": "light"
     },
     "output_type": "display_data"
    }
   ],
   "source": [
    "df.plot(x='max_size', y='n_deletions')"
   ]
  },
  {
   "cell_type": "code",
   "execution_count": null,
   "metadata": {},
   "outputs": [],
   "source": []
  }
 ],
 "metadata": {
  "kernelspec": {
   "display_name": "Python 3",
   "language": "python",
   "name": "python3"
  },
  "language_info": {
   "codemirror_mode": {
    "name": "ipython",
    "version": 3
   },
   "file_extension": ".py",
   "mimetype": "text/x-python",
   "name": "python",
   "nbconvert_exporter": "python",
   "pygments_lexer": "ipython3",
   "version": "3.7.4"
  }
 },
 "nbformat": 4,
 "nbformat_minor": 4
}
