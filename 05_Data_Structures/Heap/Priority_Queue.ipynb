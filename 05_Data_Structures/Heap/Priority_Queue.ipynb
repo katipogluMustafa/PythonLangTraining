{
 "cells": [
  {
   "cell_type": "code",
   "execution_count": 1,
   "metadata": {},
   "outputs": [],
   "source": [
    "class MaxPriorityQueue:\n",
    "    def __init__(self, initial_elements: list):\n",
    "        self.heap = self.heapify(initial_elements)\n",
    "        self.length = len(self.heap)\n",
    "    \n",
    "    def heapify(self, elements: list):\n",
    "        \"\"\"\n",
    "        Takes list of elements, returns Heap\n",
    "        Complexity: O(n)   \n",
    "        \"\"\"\n",
    "        last_index = len(elements) - 1  # Get Last Element's index\n",
    "        parent_of_last_index = (last_index - 1) // 2  # Get Last Element's Parent's index\n",
    "        # After last parent the tree, there is no subtree to adjust \n",
    "        for i in range(parent_of_last_index, -1, -1):\n",
    "            # Starting from last parent, assuming the given 'i' as the root of the subtree, down_heap\n",
    "            self.down_max_heap(elements, len(elements), root_index=i)\n",
    "        return elements  # Return the heap\n",
    "\n",
    "    def insert_max_heap(self, x: int):\n",
    "        \"\"\"\n",
    "         Complexity: O(logN)\n",
    "        \"\"\"\n",
    "        i = self.length  # index of the x\n",
    "        parent_i = (i - 1) // 2  # index of x's parent      \n",
    "        self.heap.append(x)  # Insert x into its index\n",
    "        self.length += 1\n",
    "        while i > 0 and x > self.heap[parent_i]:\n",
    "            self.heap[i] = self.heap[parent_i]  # put the parent into x's place\n",
    "            i = parent_i  # U pdate x's index, hypotheticly x is there\n",
    "            parent_i = (i - 1) // 2  # Calculate x's new parent's index\n",
    "        self.heap[i] = x  # Insert x into its real place\n",
    "\n",
    "    def delete_max_heap(self):\n",
    "        \"\"\"\n",
    "        Complexity = O(logN)\n",
    "        \"\"\"\n",
    "\n",
    "        deleted_element = self.heap[0]  # Delete the root by taking and putting last el into its place\n",
    "        self.heap[0] = self.heap[self.length - 1]  # Put the last element into root of the tree\n",
    "        self.down_max_heap(self.heap, length=self.length)  # Adjust the tree so that it becomes heap again\n",
    "        self.length -= 1  # Exclude last element since it is no longer inside the heap\n",
    "\n",
    "        return deleted_element\n",
    "\n",
    "    def down_max_heap(self, heap: list, length, root_index=0):\n",
    "        i = root_index  # Start from given subtrees root\n",
    "        max_child = self.get_max_child_index(heap, length, i)  # Get max child's index\n",
    "        while (max_child is not None) and (heap[max_child] > heap[i]):\n",
    "            # while child exists and child greater than parent, swap them\n",
    "            heap[i], heap[max_child] = heap[max_child], heap[i]  # Swap\n",
    "            i = max_child  # Update node's index\n",
    "            max_child = self.get_max_child_index(heap, length, i)\n",
    "\n",
    "    def get_max_child_index(self, heap, length, index):\n",
    "        last_index = length - 1\n",
    "        if last_index < (index * 2 + 1):  # No child\n",
    "            return None\n",
    "        elif last_index < (index * 2 + 2):  # Only Left Child exists\n",
    "            return index * 2 + 1\n",
    "        else:  # Both children exists\n",
    "            if heap[index * 2 + 1] > heap[index * 2 + 2]:\n",
    "                return index * 2 + 1  # Return Left Child as Max\n",
    "            else:\n",
    "                return index * 2 + 2  # Return Right Child as Max\n",
    "            \n",
    "    def __repr__(self):\n",
    "        return str(self.heap)\n",
    "    \n",
    "    def __str__(self):\n",
    "        return str(self.heap)\n"
   ]
  },
  {
   "cell_type": "code",
   "execution_count": 2,
   "metadata": {},
   "outputs": [],
   "source": [
    "x = MaxPriorityQueue([8, 6, 3, 10, 5, 4, 9 ])"
   ]
  },
  {
   "cell_type": "code",
   "execution_count": 3,
   "metadata": {},
   "outputs": [
    {
     "data": {
      "text/plain": [
       "[10, 8, 9, 6, 5, 4, 3]"
      ]
     },
     "execution_count": 3,
     "metadata": {},
     "output_type": "execute_result"
    }
   ],
   "source": [
    "x"
   ]
  },
  {
   "cell_type": "code",
   "execution_count": 4,
   "metadata": {},
   "outputs": [],
   "source": [
    "class PriorityQueue:\n",
    "    \n",
    "    def __init__(self, initial_elements: list, comparator, max_redundant_element_count=100):\n",
    "        self.comparator = comparator\n",
    "        self.max_redundant_element_count = max_redundant_element_count    # See delete method\n",
    "        self.heap = self.heapify(initial_elements)\n",
    "        self.length = len(self.heap)\n",
    "\n",
    "    def heapify(self, elements: list):\n",
    "        \"\"\"\n",
    "        Takes list of elements, returns Heap\n",
    "        Complexity: O(n)   \n",
    "        \"\"\"\n",
    "        last_index = len(elements) - 1  # Get Last Element's index\n",
    "        parent_of_last_index = (last_index - 1) // 2  # Get Last Element's Parent's index\n",
    "        # After last parent the tree, there is no subtree to adjust \n",
    "        for i in range(parent_of_last_index, -1, -1):\n",
    "            # Starting from last parent, assuming the given 'i' as the root of the subtree, down_heap\n",
    "            self.down_heap(elements, len(elements), root_index=i)\n",
    "        return elements  # Return the heap\n",
    "\n",
    "    def insert(self, x: int):\n",
    "        \"\"\"\n",
    "         Complexity: O(logN)\n",
    "        \"\"\"\n",
    "        i = self.length  # index of the x\n",
    "        parent_i = (i - 1) // 2  # index of x's parent      \n",
    "        \n",
    "        self.heap.append(x)  # Insert x into its index\n",
    "        self.length += 1\n",
    "\n",
    "        while i > 0 and self.comparator(x, self.heap[parent_i]):\n",
    "            self.heap[i] = self.heap[parent_i]  # put the parent into x's place\n",
    "            i = parent_i  # Update x's index, hypothetically x is there\n",
    "            parent_i = (i - 1) // 2  # Calculate x's new parent's index\n",
    "        self.heap[i] = x  # Insert x into its real place\n",
    "\n",
    "    def delete(self):\n",
    "        \"\"\"\n",
    "        Complexity = O(logN)\n",
    "        \"\"\"\n",
    "\n",
    "        deleted_element = self.heap[0]  # Delete the root by taking and putting last el into its place\n",
    "        self.heap[0] = self.heap[self.length - 1]  # Put the last element into root of the tree\n",
    "        self.down_heap(self.heap, length=self.length)  # Adjust the tree so that it becomes heap again\n",
    "        self.length -= 1  # Exclude last element since it is no longer inside the heap\n",
    "        \n",
    "        # If list grows so much, deallocate the unnecessary space\n",
    "        actual_length = len(self.heap)\n",
    "        if (actual_length - self.length) > self.max_redundant_element_count:\n",
    "            self.heap = self.heap[:self.length]\n",
    "\n",
    "        return deleted_element\n",
    "\n",
    "    def down_heap(self, heap: list, length, root_index=0):\n",
    "        i = root_index  # Start from given subtrees root\n",
    "        max_child = self.get_max_priority_child_index(heap, length, i)  # Get max priority child's index\n",
    "        while (max_child is not None) and self.comparator(heap[max_child], heap[i]):\n",
    "            # while child exists and child greater than parent, swap them\n",
    "            heap[i], heap[max_child] = heap[max_child], heap[i]  # Swap\n",
    "            i = max_child  # Update node's index\n",
    "            max_child = self.get_max_priority_child_index(heap, length, i)\n",
    "\n",
    "    def get_max_priority_child_index(self, heap, length, index):\n",
    "        last_index = length - 1\n",
    "        if last_index < (index * 2 + 1):  # No child\n",
    "            return None\n",
    "        elif last_index < (index * 2 + 2):  # Only Left Child exists\n",
    "            return index * 2 + 1\n",
    "        else:  # Both children exists\n",
    "            if self.comparator(heap[index * 2 + 1], heap[index * 2 + 2]):\n",
    "                return index * 2 + 1  # Return Left Child as Max Priority child\n",
    "            else:\n",
    "                return index * 2 + 2  # Return Right Child as Max Priority child\n",
    "\n",
    "    def __repr__(self):\n",
    "        return str(self.heap[:self.length])\n",
    "\n",
    "    def __str__(self):\n",
    "        return str(self.heap[:self.length])\n",
    "\n"
   ]
  },
  {
   "cell_type": "markdown",
   "metadata": {},
   "source": [
    "## Max Priority Queue"
   ]
  },
  {
   "cell_type": "code",
   "execution_count": 5,
   "metadata": {},
   "outputs": [],
   "source": [
    "y = PriorityQueue([8, 6, 3, 10, 5, 4, 9 ], lambda x,y: x > y)  "
   ]
  },
  {
   "cell_type": "code",
   "execution_count": 6,
   "metadata": {},
   "outputs": [
    {
     "data": {
      "text/plain": [
       "[10, 8, 9, 6, 5, 4, 3]"
      ]
     },
     "execution_count": 6,
     "metadata": {},
     "output_type": "execute_result"
    }
   ],
   "source": [
    "y"
   ]
  },
  {
   "cell_type": "code",
   "execution_count": 7,
   "metadata": {},
   "outputs": [],
   "source": [
    "y.insert(7)"
   ]
  },
  {
   "cell_type": "code",
   "execution_count": 8,
   "metadata": {},
   "outputs": [
    {
     "data": {
      "text/plain": [
       "[10, 8, 9, 7, 5, 4, 3, 6]"
      ]
     },
     "execution_count": 8,
     "metadata": {},
     "output_type": "execute_result"
    }
   ],
   "source": [
    "y"
   ]
  },
  {
   "cell_type": "code",
   "execution_count": 9,
   "metadata": {},
   "outputs": [
    {
     "data": {
      "text/plain": [
       "10"
      ]
     },
     "execution_count": 9,
     "metadata": {},
     "output_type": "execute_result"
    }
   ],
   "source": [
    "y.delete()"
   ]
  },
  {
   "cell_type": "code",
   "execution_count": 10,
   "metadata": {},
   "outputs": [
    {
     "data": {
      "text/plain": [
       "[9, 8, 6, 7, 5, 4, 3]"
      ]
     },
     "execution_count": 10,
     "metadata": {},
     "output_type": "execute_result"
    }
   ],
   "source": [
    "y"
   ]
  },
  {
   "cell_type": "markdown",
   "metadata": {},
   "source": [
    "## Min Priority Queue"
   ]
  },
  {
   "cell_type": "code",
   "execution_count": 11,
   "metadata": {},
   "outputs": [],
   "source": [
    "z = PriorityQueue([8, 6, 3, 10, 5, 4, 9 ], comparator=lambda x,y: x < y)"
   ]
  },
  {
   "cell_type": "code",
   "execution_count": 12,
   "metadata": {},
   "outputs": [
    {
     "data": {
      "text/plain": [
       "[3, 5, 4, 10, 6, 8, 9]"
      ]
     },
     "execution_count": 12,
     "metadata": {},
     "output_type": "execute_result"
    }
   ],
   "source": [
    "z"
   ]
  },
  {
   "cell_type": "code",
   "execution_count": 13,
   "metadata": {},
   "outputs": [],
   "source": [
    "z.insert(1)"
   ]
  },
  {
   "cell_type": "code",
   "execution_count": 14,
   "metadata": {},
   "outputs": [
    {
     "data": {
      "text/plain": [
       "[1, 3, 4, 5, 6, 8, 9, 10]"
      ]
     },
     "execution_count": 14,
     "metadata": {},
     "output_type": "execute_result"
    }
   ],
   "source": [
    "z"
   ]
  },
  {
   "cell_type": "code",
   "execution_count": 15,
   "metadata": {},
   "outputs": [
    {
     "data": {
      "text/plain": [
       "1"
      ]
     },
     "execution_count": 15,
     "metadata": {},
     "output_type": "execute_result"
    }
   ],
   "source": [
    "z.delete()"
   ]
  },
  {
   "cell_type": "code",
   "execution_count": 16,
   "metadata": {},
   "outputs": [
    {
     "data": {
      "text/plain": [
       "[3, 5, 4, 10, 6, 8, 9]"
      ]
     },
     "execution_count": 16,
     "metadata": {},
     "output_type": "execute_result"
    }
   ],
   "source": [
    "z"
   ]
  }
 ],
 "metadata": {
  "kernelspec": {
   "display_name": "Python 3",
   "language": "python",
   "name": "python3"
  },
  "language_info": {
   "codemirror_mode": {
    "name": "ipython",
    "version": 3
   },
   "file_extension": ".py",
   "mimetype": "text/x-python",
   "name": "python",
   "nbconvert_exporter": "python",
   "pygments_lexer": "ipython3",
   "version": "3.7.4"
  }
 },
 "nbformat": 4,
 "nbformat_minor": 4
}
