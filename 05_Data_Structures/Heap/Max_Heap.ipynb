{
 "cells": [
  {
   "cell_type": "code",
   "execution_count": 1,
   "metadata": {},
   "outputs": [],
   "source": [
    "arr = [50,30, 20,15,10,8,16]"
   ]
  },
  {
   "cell_type": "code",
   "execution_count": 2,
   "metadata": {},
   "outputs": [],
   "source": [
    "def insert_max_heap(heap:list, x:int):\n",
    "    \"\"\"\n",
    "     Complexity: O(logN)\n",
    "    \"\"\"\n",
    "    i = len(heap)                   # index of the x\n",
    "    parent_i = (i-1)//2             # index of x's parent      \n",
    "    heap.append(x)                  # Insert x into its index\n",
    "    \n",
    "    while( i > 0 and x > heap[parent_i] ):\n",
    "        heap[i] = heap[parent_i]    # put the parent into x's place\n",
    "        i = parent_i                # U pdate x's index, hypotheticly x is there\n",
    "        parent_i = (i-1)//2         # Calculate x's new parent's index\n",
    "    heap[i] = x                     # Insert x into its real place\n",
    "    \n",
    "    return heap"
   ]
  },
  {
   "cell_type": "code",
   "execution_count": 3,
   "metadata": {},
   "outputs": [
    {
     "data": {
      "text/plain": [
       "[60, 50, 20, 30, 10, 8, 16, 15]"
      ]
     },
     "execution_count": 3,
     "metadata": {},
     "output_type": "execute_result"
    }
   ],
   "source": [
    "insert_max_heap(arr,60)"
   ]
  },
  {
   "cell_type": "code",
   "execution_count": 4,
   "metadata": {},
   "outputs": [],
   "source": [
    "def get_max_child_index(heap:list, index):\n",
    "    last_index = len(heap) - 1\n",
    "    if last_index < (index * 2 + 1):   # No child\n",
    "        return None\n",
    "    elif last_index < (index * 2 + 2): # Only Left Child exists\n",
    "        return index * 2 + 1    \n",
    "    else:                              # Both children exists\n",
    "        if heap[ index * 2 + 1 ] > heap[ index * 2 + 2]:\n",
    "            return index * 2 + 1       # Return Left Child as Max\n",
    "        else:\n",
    "            return index * 2 + 2       # Return Right Child as Max"
   ]
  },
  {
   "cell_type": "code",
   "execution_count": 5,
   "metadata": {},
   "outputs": [],
   "source": [
    "def down_max_heap(heap:list, root_index = 0):\n",
    "    i = root_index                                          # Start from given subtrees root\n",
    "    max_child = get_max_child_index(heap,i)                 # Get max child's index\n",
    "    while( (max_child is not None) and  (heap[max_child] > heap[i]) ):\n",
    "        # while child exists and child greater than parent, swap them\n",
    "        heap[i],heap[max_child] = heap[max_child],heap[i]   # Swap\n",
    "        i = max_child                                       # Update node's index\n",
    "        max_child = get_max_child_index(heap,i)"
   ]
  },
  {
   "cell_type": "code",
   "execution_count": 6,
   "metadata": {},
   "outputs": [],
   "source": [
    "def delete_max_heap(heap:list,x:int):\n",
    "    \"\"\"\n",
    "    Complexity = O(logN)\n",
    "    \"\"\"\n",
    "    element = heap[0]             # Take the root\n",
    "    heap[0] = heap[len(heap)-1]   # Put the last element into root of the tree\n",
    "    down_max_heap(heap)           # Adjust the tree so that it becomes heap again\n",
    "    heap = heap[:-1]              # Exclude last element since it is no longer inside the heap\n",
    "    return heap, element"
   ]
  },
  {
   "cell_type": "code",
   "execution_count": 7,
   "metadata": {},
   "outputs": [],
   "source": [
    "arr, el = delete_max_heap(arr, 60)"
   ]
  },
  {
   "cell_type": "code",
   "execution_count": 8,
   "metadata": {},
   "outputs": [
    {
     "data": {
      "text/plain": [
       "[50, 30, 20, 15, 10, 8, 16]"
      ]
     },
     "execution_count": 8,
     "metadata": {},
     "output_type": "execute_result"
    }
   ],
   "source": [
    "arr"
   ]
  },
  {
   "cell_type": "code",
   "execution_count": 9,
   "metadata": {},
   "outputs": [
    {
     "data": {
      "text/plain": [
       "60"
      ]
     },
     "execution_count": 9,
     "metadata": {},
     "output_type": "execute_result"
    }
   ],
   "source": [
    "el"
   ]
  },
  {
   "cell_type": "code",
   "execution_count": 10,
   "metadata": {},
   "outputs": [],
   "source": [
    "def heapify(elements:list): \n",
    "    \"\"\"\n",
    "    Takes list of elements, returns Heap\n",
    "    Complexity: O(n)   \n",
    "    \"\"\"\n",
    "    last_index = len(elements)-1                           # Get Last Element's index\n",
    "    parent_of_last_index = (last_index-1)//2               # Get Last Element's Parent's index\n",
    "    # After last parent the tree, there is no subtree to adjust \n",
    "    for i in range(parent_of_last_index,-1,-1):\n",
    "        # Starting from last parent, assuming the given 'i' as the root of the subtree, down_heap\n",
    "        down_max_heap(elements,i)\n",
    "    return elements                                       # Return the heap"
   ]
  },
  {
   "cell_type": "code",
   "execution_count": 11,
   "metadata": {},
   "outputs": [
    {
     "data": {
      "text/plain": [
       "[40, 20, 25, 12, 10, 15, 18]"
      ]
     },
     "execution_count": 11,
     "metadata": {},
     "output_type": "execute_result"
    }
   ],
   "source": [
    "heapify([10,20,15,12,40,25,18])"
   ]
  }
 ],
 "metadata": {
  "kernelspec": {
   "display_name": "Python 3",
   "language": "python",
   "name": "python3"
  },
  "language_info": {
   "codemirror_mode": {
    "name": "ipython",
    "version": 3
   },
   "file_extension": ".py",
   "mimetype": "text/x-python",
   "name": "python",
   "nbconvert_exporter": "python",
   "pygments_lexer": "ipython3",
   "version": "3.7.4"
  }
 },
 "nbformat": 4,
 "nbformat_minor": 4
}
